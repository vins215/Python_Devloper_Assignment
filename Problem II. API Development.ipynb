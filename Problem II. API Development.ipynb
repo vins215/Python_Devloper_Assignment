{
 "cells": [
  {
   "cell_type": "markdown",
   "id": "1ae92cfd",
   "metadata": {},
   "source": [
    "## Problem II. API Development"
   ]
  },
  {
   "cell_type": "code",
   "execution_count": 1,
   "id": "103ba633",
   "metadata": {
    "scrolled": true
   },
   "outputs": [
    {
     "name": "stdout",
     "output_type": "stream",
     "text": [
      "Requirement already satisfied: pymongo in c:\\users\\vinay\\anaconda3\\lib\\site-packages (4.3.3)\n",
      "Requirement already satisfied: dnspython<3.0.0,>=1.16.0 in c:\\users\\vinay\\anaconda3\\lib\\site-packages (from pymongo) (2.3.0)\n"
     ]
    }
   ],
   "source": [
    "#installing pymongo\n",
    "!python -m pip install pymongo"
   ]
  },
  {
   "cell_type": "code",
   "execution_count": 2,
   "id": "2c241a41",
   "metadata": {},
   "outputs": [],
   "source": [
    "import pymongo"
   ]
  },
  {
   "cell_type": "markdown",
   "id": "eefc1405",
   "metadata": {},
   "source": [
    "### Creating database"
   ]
  },
  {
   "cell_type": "code",
   "execution_count": 3,
   "id": "8f10d66c",
   "metadata": {},
   "outputs": [],
   "source": [
    "client = pymongo.MongoClient(\"mongodb+srv://mangodb:<Password>@cluster0.i7w0clu.mongodb.net/?retryWrites=true&w=majority\")\n",
    "db = client.test\n",
    "db_name = \"TA\"\n"
   ]
  },
  {
   "cell_type": "code",
   "execution_count": 4,
   "id": "f19be7f8",
   "metadata": {},
   "outputs": [
    {
     "data": {
      "text/plain": [
       "MongoClient(host=['ac-upgzzjb-shard-00-02.i7w0clu.mongodb.net:27017', 'ac-upgzzjb-shard-00-01.i7w0clu.mongodb.net:27017', 'ac-upgzzjb-shard-00-00.i7w0clu.mongodb.net:27017'], document_class=dict, tz_aware=False, connect=True, retrywrites=True, w='majority', authsource='admin', replicaset='atlas-12n1qt-shard-0', tls=True)"
      ]
     },
     "execution_count": 4,
     "metadata": {},
     "output_type": "execute_result"
    }
   ],
   "source": [
    "client"
   ]
  },
  {
   "cell_type": "code",
   "execution_count": 5,
   "id": "d56ff250",
   "metadata": {},
   "outputs": [],
   "source": [
    "db1 = client.test1"
   ]
  },
  {
   "cell_type": "code",
   "execution_count": 6,
   "id": "52b3cc9b",
   "metadata": {},
   "outputs": [],
   "source": [
    "dataBase = client[\"TA\"]"
   ]
  },
  {
   "cell_type": "code",
   "execution_count": 7,
   "id": "f222a19b",
   "metadata": {},
   "outputs": [
    {
     "data": {
      "text/plain": [
       "['TA', 'vins', 'admin', 'local']"
      ]
     },
     "execution_count": 7,
     "metadata": {},
     "output_type": "execute_result"
    }
   ],
   "source": [
    "client.list_database_names()"
   ]
  },
  {
   "cell_type": "code",
   "execution_count": 8,
   "id": "41f7876f",
   "metadata": {},
   "outputs": [],
   "source": [
    "collection = dataBase['TA_table']"
   ]
  },
  {
   "cell_type": "markdown",
   "id": "793f8f2a",
   "metadata": {},
   "source": [
    "### Checking weather the table is created  or not in our database"
   ]
  },
  {
   "cell_type": "code",
   "execution_count": 10,
   "id": "ba84a2a8",
   "metadata": {},
   "outputs": [
    {
     "name": "stdout",
     "output_type": "stream",
     "text": [
      "Collection:'Collection(Database(MongoClient(host=['ac-upgzzjb-shard-00-02.i7w0clu.mongodb.net:27017', 'ac-upgzzjb-shard-00-01.i7w0clu.mongodb.net:27017', 'ac-upgzzjb-shard-00-00.i7w0clu.mongodb.net:27017'], document_class=dict, tz_aware=False, connect=True, retrywrites=True, w='majority', authsource='admin', replicaset='atlas-12n1qt-shard-0', tls=True), 'TA'), 'TA_table')' in Database:'TA' does not exists OR \n",
      "    no documents are present in the collection\n"
     ]
    }
   ],
   "source": [
    "def checkExistence_COL(COLLECTION_NAME, DB_NAME, db):\n",
    "    \"\"\"It verifies the existence of collection name in a database\"\"\"\n",
    "    collection_list = db.list_collection_names()\n",
    "    \n",
    "    if COLLECTION_NAME in collection_list:\n",
    "        print(f\"Collection:'{COLLECTION_NAME}' in Database:'{DB_NAME}' exists\")\n",
    "        return True\n",
    "    \n",
    "    print(f\"Collection:'{COLLECTION_NAME}' in Database:'{DB_NAME}' does not exists OR \\n\\\n",
    "    no documents are present in the collection\")\n",
    "    return False\n",
    "\n",
    "\n",
    "_ = checkExistence_COL(COLLECTION_NAME=collection, DB_NAME=db_name, db=dataBase)"
   ]
  },
  {
   "cell_type": "markdown",
   "id": "13bacab8",
   "metadata": {},
   "source": [
    "### Inserting one single record"
   ]
  },
  {
   "cell_type": "code",
   "execution_count": 11,
   "id": "559e9e77",
   "metadata": {},
   "outputs": [],
   "source": [
    "dict1 = {\n",
    "    \"id\":1,\n",
    "    \"native_english_speaker\":1,\n",
    "    \"course_instructor\":23,\n",
    "    \"course\" :3,\n",
    "    \"semester\":1,\n",
    "    \"class_size\":19,\n",
    "    \"erformance_score\":3\n",
    "    \n",
    "    \n",
    "}"
   ]
  },
  {
   "cell_type": "code",
   "execution_count": 13,
   "id": "b68e27be",
   "metadata": {},
   "outputs": [
    {
     "data": {
      "text/plain": [
       "<pymongo.results.InsertOneResult at 0x155bd565fd0>"
      ]
     },
     "execution_count": 13,
     "metadata": {},
     "output_type": "execute_result"
    }
   ],
   "source": [
    "collection.insert_one(dict1)"
   ]
  },
  {
   "cell_type": "markdown",
   "id": "26038a23",
   "metadata": {},
   "source": [
    "### Inserting Multiple records "
   ]
  },
  {
   "cell_type": "code",
   "execution_count": 26,
   "id": "588752c2",
   "metadata": {},
   "outputs": [],
   "source": [
    "import pandas as pd\n",
    "data = pd.read_csv('data.csv')\n",
    "data.insert(0, 'Index', range(len(data)))\n",
    "data.columns = ['Index','NativeEngSpeaker','CourseInst','Course', 'Sum/Reg', 'ClassSize', 'ClassAttr']"
   ]
  },
  {
   "cell_type": "code",
   "execution_count": 27,
   "id": "f9d16596",
   "metadata": {},
   "outputs": [
    {
     "name": "stdout",
     "output_type": "stream",
     "text": [
      "[ObjectId('6429a0d749e2d343b0659294'), ObjectId('6429a0d749e2d343b0659295'), ObjectId('6429a0d749e2d343b0659296'), ObjectId('6429a0d749e2d343b0659297'), ObjectId('6429a0d749e2d343b0659298'), ObjectId('6429a0d749e2d343b0659299'), ObjectId('6429a0d749e2d343b065929a'), ObjectId('6429a0d749e2d343b065929b'), ObjectId('6429a0d749e2d343b065929c'), ObjectId('6429a0d749e2d343b065929d'), ObjectId('6429a0d749e2d343b065929e'), ObjectId('6429a0d749e2d343b065929f'), ObjectId('6429a0d749e2d343b06592a0'), ObjectId('6429a0d749e2d343b06592a1'), ObjectId('6429a0d749e2d343b06592a2'), ObjectId('6429a0d749e2d343b06592a3'), ObjectId('6429a0d749e2d343b06592a4'), ObjectId('6429a0d749e2d343b06592a5'), ObjectId('6429a0d749e2d343b06592a6'), ObjectId('6429a0d749e2d343b06592a7'), ObjectId('6429a0d749e2d343b06592a8'), ObjectId('6429a0d749e2d343b06592a9'), ObjectId('6429a0d749e2d343b06592aa'), ObjectId('6429a0d749e2d343b06592ab'), ObjectId('6429a0d749e2d343b06592ac'), ObjectId('6429a0d749e2d343b06592ad'), ObjectId('6429a0d749e2d343b06592ae'), ObjectId('6429a0d749e2d343b06592af'), ObjectId('6429a0d749e2d343b06592b0'), ObjectId('6429a0d749e2d343b06592b1'), ObjectId('6429a0d749e2d343b06592b2'), ObjectId('6429a0d749e2d343b06592b3'), ObjectId('6429a0d749e2d343b06592b4'), ObjectId('6429a0d749e2d343b06592b5'), ObjectId('6429a0d749e2d343b06592b6'), ObjectId('6429a0d749e2d343b06592b7'), ObjectId('6429a0d749e2d343b06592b8'), ObjectId('6429a0d749e2d343b06592b9'), ObjectId('6429a0d749e2d343b06592ba'), ObjectId('6429a0d749e2d343b06592bb'), ObjectId('6429a0d749e2d343b06592bc'), ObjectId('6429a0d749e2d343b06592bd'), ObjectId('6429a0d749e2d343b06592be'), ObjectId('6429a0d749e2d343b06592bf'), ObjectId('6429a0d749e2d343b06592c0'), ObjectId('6429a0d749e2d343b06592c1'), ObjectId('6429a0d749e2d343b06592c2'), ObjectId('6429a0d749e2d343b06592c3'), ObjectId('6429a0d749e2d343b06592c4'), ObjectId('6429a0d749e2d343b06592c5'), ObjectId('6429a0d749e2d343b06592c6'), ObjectId('6429a0d749e2d343b06592c7'), ObjectId('6429a0d749e2d343b06592c8'), ObjectId('6429a0d749e2d343b06592c9'), ObjectId('6429a0d749e2d343b06592ca'), ObjectId('6429a0d749e2d343b06592cb'), ObjectId('6429a0d749e2d343b06592cc'), ObjectId('6429a0d749e2d343b06592cd'), ObjectId('6429a0d749e2d343b06592ce'), ObjectId('6429a0d749e2d343b06592cf'), ObjectId('6429a0d749e2d343b06592d0'), ObjectId('6429a0d749e2d343b06592d1'), ObjectId('6429a0d749e2d343b06592d2'), ObjectId('6429a0d749e2d343b06592d3'), ObjectId('6429a0d749e2d343b06592d4'), ObjectId('6429a0d749e2d343b06592d5'), ObjectId('6429a0d749e2d343b06592d6'), ObjectId('6429a0d749e2d343b06592d7'), ObjectId('6429a0d749e2d343b06592d8'), ObjectId('6429a0d749e2d343b06592d9'), ObjectId('6429a0d749e2d343b06592da'), ObjectId('6429a0d749e2d343b06592db'), ObjectId('6429a0d749e2d343b06592dc'), ObjectId('6429a0d749e2d343b06592dd'), ObjectId('6429a0d749e2d343b06592de'), ObjectId('6429a0d749e2d343b06592df'), ObjectId('6429a0d749e2d343b06592e0'), ObjectId('6429a0d749e2d343b06592e1'), ObjectId('6429a0d749e2d343b06592e2'), ObjectId('6429a0d749e2d343b06592e3'), ObjectId('6429a0d749e2d343b06592e4'), ObjectId('6429a0d749e2d343b06592e5'), ObjectId('6429a0d749e2d343b06592e6'), ObjectId('6429a0d749e2d343b06592e7'), ObjectId('6429a0d749e2d343b06592e8'), ObjectId('6429a0d749e2d343b06592e9'), ObjectId('6429a0d749e2d343b06592ea'), ObjectId('6429a0d749e2d343b06592eb'), ObjectId('6429a0d749e2d343b06592ec'), ObjectId('6429a0d749e2d343b06592ed'), ObjectId('6429a0d749e2d343b06592ee'), ObjectId('6429a0d749e2d343b06592ef'), ObjectId('6429a0d749e2d343b06592f0'), ObjectId('6429a0d749e2d343b06592f1'), ObjectId('6429a0d749e2d343b06592f2'), ObjectId('6429a0d749e2d343b06592f3'), ObjectId('6429a0d749e2d343b06592f4'), ObjectId('6429a0d749e2d343b06592f5'), ObjectId('6429a0d749e2d343b06592f6'), ObjectId('6429a0d749e2d343b06592f7'), ObjectId('6429a0d749e2d343b06592f8'), ObjectId('6429a0d749e2d343b06592f9'), ObjectId('6429a0d749e2d343b06592fa'), ObjectId('6429a0d749e2d343b06592fb'), ObjectId('6429a0d749e2d343b06592fc'), ObjectId('6429a0d749e2d343b06592fd'), ObjectId('6429a0d749e2d343b06592fe'), ObjectId('6429a0d749e2d343b06592ff'), ObjectId('6429a0d749e2d343b0659300'), ObjectId('6429a0d749e2d343b0659301'), ObjectId('6429a0d749e2d343b0659302'), ObjectId('6429a0d749e2d343b0659303'), ObjectId('6429a0d749e2d343b0659304'), ObjectId('6429a0d749e2d343b0659305'), ObjectId('6429a0d749e2d343b0659306'), ObjectId('6429a0d749e2d343b0659307'), ObjectId('6429a0d749e2d343b0659308'), ObjectId('6429a0d749e2d343b0659309'), ObjectId('6429a0d749e2d343b065930a'), ObjectId('6429a0d749e2d343b065930b'), ObjectId('6429a0d749e2d343b065930c'), ObjectId('6429a0d749e2d343b065930d'), ObjectId('6429a0d749e2d343b065930e'), ObjectId('6429a0d749e2d343b065930f'), ObjectId('6429a0d749e2d343b0659310'), ObjectId('6429a0d749e2d343b0659311'), ObjectId('6429a0d749e2d343b0659312'), ObjectId('6429a0d749e2d343b0659313'), ObjectId('6429a0d749e2d343b0659314'), ObjectId('6429a0d749e2d343b0659315'), ObjectId('6429a0d749e2d343b0659316'), ObjectId('6429a0d749e2d343b0659317'), ObjectId('6429a0d749e2d343b0659318'), ObjectId('6429a0d749e2d343b0659319'), ObjectId('6429a0d749e2d343b065931a'), ObjectId('6429a0d749e2d343b065931b'), ObjectId('6429a0d749e2d343b065931c'), ObjectId('6429a0d749e2d343b065931d'), ObjectId('6429a0d749e2d343b065931e'), ObjectId('6429a0d749e2d343b065931f'), ObjectId('6429a0d749e2d343b0659320'), ObjectId('6429a0d749e2d343b0659321'), ObjectId('6429a0d749e2d343b0659322'), ObjectId('6429a0d749e2d343b0659323'), ObjectId('6429a0d749e2d343b0659324'), ObjectId('6429a0d749e2d343b0659325'), ObjectId('6429a0d749e2d343b0659326'), ObjectId('6429a0d749e2d343b0659327'), ObjectId('6429a0d749e2d343b0659328'), ObjectId('6429a0d749e2d343b0659329')]\n"
     ]
    }
   ],
   "source": [
    "import json\n",
    "collection = dataBase['TA_table']\n",
    "data_dict = json.loads(json_data)\n",
    "result = collection.insert_many(data_dict)\n",
    "print(result.inserted_ids)"
   ]
  },
  {
   "cell_type": "markdown",
   "id": "20b27338",
   "metadata": {},
   "source": [
    "### Find method in mongodb"
   ]
  },
  {
   "cell_type": "code",
   "execution_count": 17,
   "id": "762bd621",
   "metadata": {
    "scrolled": true
   },
   "outputs": [
    {
     "name": "stdout",
     "output_type": "stream",
     "text": [
      "The first record of collection TA :  \n",
      " is=\n",
      "{'_id': ObjectId('64299cfc49e2d343b06591fa'), 'id': 1, 'native_english_speaker': 1, 'course_instructor': 23, 'course': 3, 'semester': 1, 'class_size': 19, 'erformance_score': 3}\n"
     ]
    }
   ],
   "source": [
    "find_first_record = collection.find_one()\n",
    "\n",
    "print(f\"The first record of collection TA :  \\n is=\\\n",
    "\\n{find_first_record}\")"
   ]
  },
  {
   "cell_type": "code",
   "execution_count": 18,
   "id": "39463b9b",
   "metadata": {},
   "outputs": [
    {
     "name": "stdout",
     "output_type": "stream",
     "text": [
      "{'_id': ObjectId('64299cfc49e2d343b06591fa'), 'id': 1, 'native_english_speaker': 1, 'course_instructor': 23, 'course': 3, 'semester': 1, 'class_size': 19, 'erformance_score': 3}\n",
      "{'_id': ObjectId('64299d0f49e2d343b06591fb'), 'Index': 0, 'NativeEngSpeaker': 2, 'CourseInst': 15, 'Course': 3, 'Sum/Reg': 1, 'ClassSize': 17, 'ClassAttr': 3}\n",
      "{'_id': ObjectId('64299d0f49e2d343b06591fc'), 'Index': 1, 'NativeEngSpeaker': 1, 'CourseInst': 23, 'Course': 3, 'Sum/Reg': 2, 'ClassSize': 49, 'ClassAttr': 3}\n",
      "{'_id': ObjectId('64299d0f49e2d343b06591fd'), 'Index': 2, 'NativeEngSpeaker': 1, 'CourseInst': 5, 'Course': 2, 'Sum/Reg': 2, 'ClassSize': 33, 'ClassAttr': 3}\n",
      "{'_id': ObjectId('64299d0f49e2d343b06591fe'), 'Index': 3, 'NativeEngSpeaker': 2, 'CourseInst': 7, 'Course': 11, 'Sum/Reg': 2, 'ClassSize': 55, 'ClassAttr': 3}\n",
      "{'_id': ObjectId('64299d0f49e2d343b06591ff'), 'Index': 4, 'NativeEngSpeaker': 2, 'CourseInst': 23, 'Course': 3, 'Sum/Reg': 1, 'ClassSize': 20, 'ClassAttr': 3}\n",
      "{'_id': ObjectId('64299d0f49e2d343b0659200'), 'Index': 5, 'NativeEngSpeaker': 2, 'CourseInst': 9, 'Course': 5, 'Sum/Reg': 2, 'ClassSize': 19, 'ClassAttr': 3}\n",
      "{'_id': ObjectId('64299d0f49e2d343b0659201'), 'Index': 6, 'NativeEngSpeaker': 2, 'CourseInst': 10, 'Course': 3, 'Sum/Reg': 2, 'ClassSize': 27, 'ClassAttr': 3}\n",
      "{'_id': ObjectId('64299d0f49e2d343b0659202'), 'Index': 7, 'NativeEngSpeaker': 1, 'CourseInst': 22, 'Course': 3, 'Sum/Reg': 1, 'ClassSize': 58, 'ClassAttr': 3}\n",
      "{'_id': ObjectId('64299d0f49e2d343b0659203'), 'Index': 8, 'NativeEngSpeaker': 2, 'CourseInst': 15, 'Course': 3, 'Sum/Reg': 1, 'ClassSize': 20, 'ClassAttr': 3}\n",
      "{'_id': ObjectId('64299d0f49e2d343b0659204'), 'Index': 9, 'NativeEngSpeaker': 2, 'CourseInst': 10, 'Course': 22, 'Sum/Reg': 2, 'ClassSize': 9, 'ClassAttr': 3}\n",
      "{'_id': ObjectId('64299d0f49e2d343b0659205'), 'Index': 10, 'NativeEngSpeaker': 2, 'CourseInst': 13, 'Course': 1, 'Sum/Reg': 2, 'ClassSize': 30, 'ClassAttr': 3}\n",
      "{'_id': ObjectId('64299d0f49e2d343b0659206'), 'Index': 11, 'NativeEngSpeaker': 2, 'CourseInst': 18, 'Course': 21, 'Sum/Reg': 2, 'ClassSize': 29, 'ClassAttr': 3}\n",
      "{'_id': ObjectId('64299d0f49e2d343b0659207'), 'Index': 12, 'NativeEngSpeaker': 2, 'CourseInst': 6, 'Course': 17, 'Sum/Reg': 2, 'ClassSize': 39, 'ClassAttr': 3}\n",
      "{'_id': ObjectId('64299d0f49e2d343b0659208'), 'Index': 13, 'NativeEngSpeaker': 2, 'CourseInst': 6, 'Course': 17, 'Sum/Reg': 2, 'ClassSize': 42, 'ClassAttr': 2}\n",
      "{'_id': ObjectId('64299d0f49e2d343b0659209'), 'Index': 14, 'NativeEngSpeaker': 2, 'CourseInst': 6, 'Course': 17, 'Sum/Reg': 2, 'ClassSize': 43, 'ClassAttr': 2}\n",
      "{'_id': ObjectId('64299d0f49e2d343b065920a'), 'Index': 15, 'NativeEngSpeaker': 2, 'CourseInst': 7, 'Course': 11, 'Sum/Reg': 2, 'ClassSize': 10, 'ClassAttr': 2}\n",
      "{'_id': ObjectId('64299d0f49e2d343b065920b'), 'Index': 16, 'NativeEngSpeaker': 2, 'CourseInst': 22, 'Course': 3, 'Sum/Reg': 2, 'ClassSize': 46, 'ClassAttr': 2}\n",
      "{'_id': ObjectId('64299d0f49e2d343b065920c'), 'Index': 17, 'NativeEngSpeaker': 2, 'CourseInst': 13, 'Course': 3, 'Sum/Reg': 1, 'ClassSize': 10, 'ClassAttr': 2}\n",
      "{'_id': ObjectId('64299d0f49e2d343b065920d'), 'Index': 18, 'NativeEngSpeaker': 2, 'CourseInst': 7, 'Course': 25, 'Sum/Reg': 2, 'ClassSize': 42, 'ClassAttr': 2}\n",
      "{'_id': ObjectId('64299d0f49e2d343b065920e'), 'Index': 19, 'NativeEngSpeaker': 2, 'CourseInst': 25, 'Course': 7, 'Sum/Reg': 2, 'ClassSize': 27, 'ClassAttr': 2}\n",
      "{'_id': ObjectId('64299d0f49e2d343b065920f'), 'Index': 20, 'NativeEngSpeaker': 2, 'CourseInst': 25, 'Course': 7, 'Sum/Reg': 2, 'ClassSize': 23, 'ClassAttr': 2}\n",
      "{'_id': ObjectId('64299d0f49e2d343b0659210'), 'Index': 21, 'NativeEngSpeaker': 2, 'CourseInst': 2, 'Course': 9, 'Sum/Reg': 2, 'ClassSize': 31, 'ClassAttr': 2}\n",
      "{'_id': ObjectId('64299d0f49e2d343b0659211'), 'Index': 22, 'NativeEngSpeaker': 2, 'CourseInst': 1, 'Course': 15, 'Sum/Reg': 1, 'ClassSize': 22, 'ClassAttr': 2}\n",
      "{'_id': ObjectId('64299d0f49e2d343b0659212'), 'Index': 23, 'NativeEngSpeaker': 2, 'CourseInst': 15, 'Course': 13, 'Sum/Reg': 2, 'ClassSize': 37, 'ClassAttr': 2}\n",
      "{'_id': ObjectId('64299d0f49e2d343b0659213'), 'Index': 24, 'NativeEngSpeaker': 2, 'CourseInst': 7, 'Course': 11, 'Sum/Reg': 2, 'ClassSize': 13, 'ClassAttr': 2}\n",
      "{'_id': ObjectId('64299d0f49e2d343b0659214'), 'Index': 25, 'NativeEngSpeaker': 2, 'CourseInst': 8, 'Course': 3, 'Sum/Reg': 2, 'ClassSize': 24, 'ClassAttr': 2}\n",
      "{'_id': ObjectId('64299d0f49e2d343b0659215'), 'Index': 26, 'NativeEngSpeaker': 2, 'CourseInst': 14, 'Course': 15, 'Sum/Reg': 2, 'ClassSize': 38, 'ClassAttr': 2}\n",
      "{'_id': ObjectId('64299d0f49e2d343b0659216'), 'Index': 27, 'NativeEngSpeaker': 2, 'CourseInst': 21, 'Course': 2, 'Sum/Reg': 2, 'ClassSize': 42, 'ClassAttr': 1}\n",
      "{'_id': ObjectId('64299d0f49e2d343b0659217'), 'Index': 28, 'NativeEngSpeaker': 2, 'CourseInst': 22, 'Course': 3, 'Sum/Reg': 2, 'ClassSize': 28, 'ClassAttr': 1}\n",
      "{'_id': ObjectId('64299d0f49e2d343b0659218'), 'Index': 29, 'NativeEngSpeaker': 2, 'CourseInst': 11, 'Course': 1, 'Sum/Reg': 2, 'ClassSize': 51, 'ClassAttr': 1}\n",
      "{'_id': ObjectId('64299d0f49e2d343b0659219'), 'Index': 30, 'NativeEngSpeaker': 2, 'CourseInst': 18, 'Course': 5, 'Sum/Reg': 2, 'ClassSize': 19, 'ClassAttr': 1}\n",
      "{'_id': ObjectId('64299d0f49e2d343b065921a'), 'Index': 31, 'NativeEngSpeaker': 2, 'CourseInst': 13, 'Course': 1, 'Sum/Reg': 2, 'ClassSize': 31, 'ClassAttr': 1}\n",
      "{'_id': ObjectId('64299d0f49e2d343b065921b'), 'Index': 32, 'NativeEngSpeaker': 1, 'CourseInst': 13, 'Course': 3, 'Sum/Reg': 1, 'ClassSize': 13, 'ClassAttr': 1}\n",
      "{'_id': ObjectId('64299d0f49e2d343b065921c'), 'Index': 33, 'NativeEngSpeaker': 2, 'CourseInst': 5, 'Course': 2, 'Sum/Reg': 2, 'ClassSize': 37, 'ClassAttr': 1}\n",
      "{'_id': ObjectId('64299d0f49e2d343b065921d'), 'Index': 34, 'NativeEngSpeaker': 2, 'CourseInst': 16, 'Course': 8, 'Sum/Reg': 2, 'ClassSize': 36, 'ClassAttr': 1}\n",
      "{'_id': ObjectId('64299d0f49e2d343b065921e'), 'Index': 35, 'NativeEngSpeaker': 2, 'CourseInst': 4, 'Course': 16, 'Sum/Reg': 2, 'ClassSize': 21, 'ClassAttr': 1}\n",
      "{'_id': ObjectId('64299d0f49e2d343b065921f'), 'Index': 36, 'NativeEngSpeaker': 2, 'CourseInst': 5, 'Course': 2, 'Sum/Reg': 2, 'ClassSize': 48, 'ClassAttr': 1}\n",
      "{'_id': ObjectId('64299d0f49e2d343b0659220'), 'Index': 37, 'NativeEngSpeaker': 2, 'CourseInst': 14, 'Course': 15, 'Sum/Reg': 2, 'ClassSize': 38, 'ClassAttr': 1}\n",
      "{'_id': ObjectId('64299d0f49e2d343b0659221'), 'Index': 38, 'NativeEngSpeaker': 1, 'CourseInst': 23, 'Course': 3, 'Sum/Reg': 1, 'ClassSize': 19, 'ClassAttr': 3}\n",
      "{'_id': ObjectId('64299d0f49e2d343b0659222'), 'Index': 39, 'NativeEngSpeaker': 2, 'CourseInst': 15, 'Course': 3, 'Sum/Reg': 1, 'ClassSize': 17, 'ClassAttr': 3}\n",
      "{'_id': ObjectId('64299d0f49e2d343b0659223'), 'Index': 40, 'NativeEngSpeaker': 1, 'CourseInst': 23, 'Course': 3, 'Sum/Reg': 2, 'ClassSize': 49, 'ClassAttr': 3}\n",
      "{'_id': ObjectId('64299d0f49e2d343b0659224'), 'Index': 41, 'NativeEngSpeaker': 1, 'CourseInst': 5, 'Course': 2, 'Sum/Reg': 2, 'ClassSize': 33, 'ClassAttr': 3}\n",
      "{'_id': ObjectId('64299d0f49e2d343b0659225'), 'Index': 42, 'NativeEngSpeaker': 2, 'CourseInst': 7, 'Course': 11, 'Sum/Reg': 2, 'ClassSize': 55, 'ClassAttr': 3}\n",
      "{'_id': ObjectId('64299d0f49e2d343b0659226'), 'Index': 43, 'NativeEngSpeaker': 2, 'CourseInst': 23, 'Course': 3, 'Sum/Reg': 1, 'ClassSize': 20, 'ClassAttr': 3}\n",
      "{'_id': ObjectId('64299d0f49e2d343b0659227'), 'Index': 44, 'NativeEngSpeaker': 2, 'CourseInst': 9, 'Course': 5, 'Sum/Reg': 2, 'ClassSize': 19, 'ClassAttr': 3}\n",
      "{'_id': ObjectId('64299d0f49e2d343b0659228'), 'Index': 45, 'NativeEngSpeaker': 2, 'CourseInst': 10, 'Course': 3, 'Sum/Reg': 2, 'ClassSize': 27, 'ClassAttr': 3}\n",
      "{'_id': ObjectId('64299d0f49e2d343b0659229'), 'Index': 46, 'NativeEngSpeaker': 1, 'CourseInst': 22, 'Course': 3, 'Sum/Reg': 2, 'ClassSize': 58, 'ClassAttr': 3}\n",
      "{'_id': ObjectId('64299d0f49e2d343b065922a'), 'Index': 47, 'NativeEngSpeaker': 2, 'CourseInst': 15, 'Course': 3, 'Sum/Reg': 1, 'ClassSize': 20, 'ClassAttr': 3}\n",
      "{'_id': ObjectId('64299d0f49e2d343b065922b'), 'Index': 48, 'NativeEngSpeaker': 2, 'CourseInst': 10, 'Course': 22, 'Sum/Reg': 2, 'ClassSize': 9, 'ClassAttr': 3}\n",
      "{'_id': ObjectId('64299d0f49e2d343b065922c'), 'Index': 49, 'NativeEngSpeaker': 2, 'CourseInst': 13, 'Course': 1, 'Sum/Reg': 2, 'ClassSize': 30, 'ClassAttr': 3}\n",
      "{'_id': ObjectId('64299d0f49e2d343b065922d'), 'Index': 50, 'NativeEngSpeaker': 2, 'CourseInst': 18, 'Course': 21, 'Sum/Reg': 2, 'ClassSize': 29, 'ClassAttr': 3}\n",
      "{'_id': ObjectId('64299d0f49e2d343b065922e'), 'Index': 51, 'NativeEngSpeaker': 2, 'CourseInst': 6, 'Course': 17, 'Sum/Reg': 2, 'ClassSize': 39, 'ClassAttr': 3}\n",
      "{'_id': ObjectId('64299d0f49e2d343b065922f'), 'Index': 52, 'NativeEngSpeaker': 2, 'CourseInst': 6, 'Course': 17, 'Sum/Reg': 2, 'ClassSize': 42, 'ClassAttr': 2}\n",
      "{'_id': ObjectId('64299d0f49e2d343b0659230'), 'Index': 53, 'NativeEngSpeaker': 2, 'CourseInst': 6, 'Course': 17, 'Sum/Reg': 2, 'ClassSize': 43, 'ClassAttr': 2}\n",
      "{'_id': ObjectId('64299d0f49e2d343b0659231'), 'Index': 54, 'NativeEngSpeaker': 2, 'CourseInst': 7, 'Course': 11, 'Sum/Reg': 2, 'ClassSize': 10, 'ClassAttr': 2}\n",
      "{'_id': ObjectId('64299d0f49e2d343b0659232'), 'Index': 55, 'NativeEngSpeaker': 2, 'CourseInst': 22, 'Course': 3, 'Sum/Reg': 2, 'ClassSize': 46, 'ClassAttr': 2}\n",
      "{'_id': ObjectId('64299d0f49e2d343b0659233'), 'Index': 56, 'NativeEngSpeaker': 2, 'CourseInst': 13, 'Course': 3, 'Sum/Reg': 1, 'ClassSize': 10, 'ClassAttr': 2}\n",
      "{'_id': ObjectId('64299d0f49e2d343b0659234'), 'Index': 57, 'NativeEngSpeaker': 2, 'CourseInst': 7, 'Course': 25, 'Sum/Reg': 2, 'ClassSize': 42, 'ClassAttr': 2}\n",
      "{'_id': ObjectId('64299d0f49e2d343b0659235'), 'Index': 58, 'NativeEngSpeaker': 2, 'CourseInst': 25, 'Course': 7, 'Sum/Reg': 2, 'ClassSize': 27, 'ClassAttr': 2}\n",
      "{'_id': ObjectId('64299d0f49e2d343b0659236'), 'Index': 59, 'NativeEngSpeaker': 2, 'CourseInst': 25, 'Course': 7, 'Sum/Reg': 2, 'ClassSize': 23, 'ClassAttr': 2}\n",
      "{'_id': ObjectId('64299d0f49e2d343b0659237'), 'Index': 60, 'NativeEngSpeaker': 2, 'CourseInst': 2, 'Course': 9, 'Sum/Reg': 2, 'ClassSize': 31, 'ClassAttr': 2}\n",
      "{'_id': ObjectId('64299d0f49e2d343b0659238'), 'Index': 61, 'NativeEngSpeaker': 2, 'CourseInst': 1, 'Course': 15, 'Sum/Reg': 1, 'ClassSize': 22, 'ClassAttr': 2}\n",
      "{'_id': ObjectId('64299d0f49e2d343b0659239'), 'Index': 62, 'NativeEngSpeaker': 2, 'CourseInst': 15, 'Course': 13, 'Sum/Reg': 2, 'ClassSize': 37, 'ClassAttr': 2}\n",
      "{'_id': ObjectId('64299d0f49e2d343b065923a'), 'Index': 63, 'NativeEngSpeaker': 2, 'CourseInst': 7, 'Course': 11, 'Sum/Reg': 2, 'ClassSize': 13, 'ClassAttr': 2}\n",
      "{'_id': ObjectId('64299d0f49e2d343b065923b'), 'Index': 64, 'NativeEngSpeaker': 2, 'CourseInst': 8, 'Course': 3, 'Sum/Reg': 2, 'ClassSize': 24, 'ClassAttr': 2}\n",
      "{'_id': ObjectId('64299d0f49e2d343b065923c'), 'Index': 65, 'NativeEngSpeaker': 2, 'CourseInst': 14, 'Course': 15, 'Sum/Reg': 2, 'ClassSize': 38, 'ClassAttr': 2}\n",
      "{'_id': ObjectId('64299d0f49e2d343b065923d'), 'Index': 66, 'NativeEngSpeaker': 2, 'CourseInst': 21, 'Course': 2, 'Sum/Reg': 2, 'ClassSize': 42, 'ClassAttr': 1}\n",
      "{'_id': ObjectId('64299d0f49e2d343b065923e'), 'Index': 67, 'NativeEngSpeaker': 2, 'CourseInst': 22, 'Course': 3, 'Sum/Reg': 2, 'ClassSize': 28, 'ClassAttr': 1}\n",
      "{'_id': ObjectId('64299d0f49e2d343b065923f'), 'Index': 68, 'NativeEngSpeaker': 2, 'CourseInst': 11, 'Course': 1, 'Sum/Reg': 2, 'ClassSize': 51, 'ClassAttr': 1}\n",
      "{'_id': ObjectId('64299d0f49e2d343b0659240'), 'Index': 69, 'NativeEngSpeaker': 2, 'CourseInst': 18, 'Course': 5, 'Sum/Reg': 2, 'ClassSize': 19, 'ClassAttr': 1}\n",
      "{'_id': ObjectId('64299d0f49e2d343b0659241'), 'Index': 70, 'NativeEngSpeaker': 2, 'CourseInst': 13, 'Course': 1, 'Sum/Reg': 2, 'ClassSize': 31, 'ClassAttr': 1}\n",
      "{'_id': ObjectId('64299d0f49e2d343b0659242'), 'Index': 71, 'NativeEngSpeaker': 1, 'CourseInst': 13, 'Course': 3, 'Sum/Reg': 1, 'ClassSize': 13, 'ClassAttr': 1}\n",
      "{'_id': ObjectId('64299d0f49e2d343b0659243'), 'Index': 72, 'NativeEngSpeaker': 2, 'CourseInst': 5, 'Course': 2, 'Sum/Reg': 2, 'ClassSize': 37, 'ClassAttr': 1}\n",
      "{'_id': ObjectId('64299d0f49e2d343b0659244'), 'Index': 73, 'NativeEngSpeaker': 2, 'CourseInst': 16, 'Course': 8, 'Sum/Reg': 2, 'ClassSize': 36, 'ClassAttr': 1}\n",
      "{'_id': ObjectId('64299d0f49e2d343b0659245'), 'Index': 74, 'NativeEngSpeaker': 2, 'CourseInst': 4, 'Course': 16, 'Sum/Reg': 2, 'ClassSize': 21, 'ClassAttr': 1}\n",
      "{'_id': ObjectId('64299d0f49e2d343b0659246'), 'Index': 75, 'NativeEngSpeaker': 2, 'CourseInst': 5, 'Course': 2, 'Sum/Reg': 2, 'ClassSize': 48, 'ClassAttr': 1}\n",
      "{'_id': ObjectId('64299d0f49e2d343b0659247'), 'Index': 76, 'NativeEngSpeaker': 2, 'CourseInst': 14, 'Course': 15, 'Sum/Reg': 2, 'ClassSize': 38, 'ClassAttr': 1}\n",
      "{'_id': ObjectId('64299d0f49e2d343b0659248'), 'Index': 77, 'NativeEngSpeaker': 1, 'CourseInst': 23, 'Course': 3, 'Sum/Reg': 1, 'ClassSize': 25, 'ClassAttr': 3}\n",
      "{'_id': ObjectId('64299d0f49e2d343b0659249'), 'Index': 78, 'NativeEngSpeaker': 1, 'CourseInst': 13, 'Course': 3, 'Sum/Reg': 1, 'ClassSize': 17, 'ClassAttr': 3}\n",
      "{'_id': ObjectId('64299d0f49e2d343b065924a'), 'Index': 79, 'NativeEngSpeaker': 2, 'CourseInst': 16, 'Course': 19, 'Sum/Reg': 2, 'ClassSize': 11, 'ClassAttr': 3}\n",
      "{'_id': ObjectId('64299d0f49e2d343b065924b'), 'Index': 80, 'NativeEngSpeaker': 2, 'CourseInst': 9, 'Course': 2, 'Sum/Reg': 2, 'ClassSize': 39, 'ClassAttr': 3}\n",
      "{'_id': ObjectId('64299d0f49e2d343b065924c'), 'Index': 81, 'NativeEngSpeaker': 2, 'CourseInst': 13, 'Course': 3, 'Sum/Reg': 1, 'ClassSize': 11, 'ClassAttr': 3}\n",
      "{'_id': ObjectId('64299d0f49e2d343b065924d'), 'Index': 82, 'NativeEngSpeaker': 2, 'CourseInst': 18, 'Course': 21, 'Sum/Reg': 2, 'ClassSize': 19, 'ClassAttr': 3}\n",
      "{'_id': ObjectId('64299d0f49e2d343b065924e'), 'Index': 83, 'NativeEngSpeaker': 1, 'CourseInst': 22, 'Course': 3, 'Sum/Reg': 2, 'ClassSize': 45, 'ClassAttr': 3}\n",
      "{'_id': ObjectId('64299d0f49e2d343b065924f'), 'Index': 84, 'NativeEngSpeaker': 2, 'CourseInst': 7, 'Course': 11, 'Sum/Reg': 1, 'ClassSize': 20, 'ClassAttr': 3}\n",
      "{'_id': ObjectId('64299d0f49e2d343b0659250'), 'Index': 85, 'NativeEngSpeaker': 2, 'CourseInst': 23, 'Course': 3, 'Sum/Reg': 1, 'ClassSize': 20, 'ClassAttr': 3}\n",
      "{'_id': ObjectId('64299d0f49e2d343b0659251'), 'Index': 86, 'NativeEngSpeaker': 1, 'CourseInst': 23, 'Course': 3, 'Sum/Reg': 1, 'ClassSize': 20, 'ClassAttr': 3}\n",
      "{'_id': ObjectId('64299d0f49e2d343b0659252'), 'Index': 87, 'NativeEngSpeaker': 1, 'CourseInst': 23, 'Course': 3, 'Sum/Reg': 2, 'ClassSize': 38, 'ClassAttr': 3}\n",
      "{'_id': ObjectId('64299d0f49e2d343b0659253'), 'Index': 88, 'NativeEngSpeaker': 2, 'CourseInst': 14, 'Course': 22, 'Sum/Reg': 2, 'ClassSize': 17, 'ClassAttr': 3}\n",
      "{'_id': ObjectId('64299d0f49e2d343b0659254'), 'Index': 89, 'NativeEngSpeaker': 1, 'CourseInst': 17, 'Course': 17, 'Sum/Reg': 2, 'ClassSize': 19, 'ClassAttr': 3}\n",
      "{'_id': ObjectId('64299d0f49e2d343b0659255'), 'Index': 90, 'NativeEngSpeaker': 2, 'CourseInst': 9, 'Course': 5, 'Sum/Reg': 2, 'ClassSize': 24, 'ClassAttr': 3}\n",
      "{'_id': ObjectId('64299d0f49e2d343b0659256'), 'Index': 91, 'NativeEngSpeaker': 2, 'CourseInst': 18, 'Course': 25, 'Sum/Reg': 2, 'ClassSize': 25, 'ClassAttr': 3}\n",
      "{'_id': ObjectId('64299d0f49e2d343b0659257'), 'Index': 92, 'NativeEngSpeaker': 1, 'CourseInst': 17, 'Course': 17, 'Sum/Reg': 2, 'ClassSize': 31, 'ClassAttr': 3}\n",
      "{'_id': ObjectId('64299d0f49e2d343b0659258'), 'Index': 93, 'NativeEngSpeaker': 2, 'CourseInst': 1, 'Course': 15, 'Sum/Reg': 2, 'ClassSize': 31, 'ClassAttr': 3}\n",
      "{'_id': ObjectId('64299d0f49e2d343b0659259'), 'Index': 94, 'NativeEngSpeaker': 2, 'CourseInst': 1, 'Course': 8, 'Sum/Reg': 2, 'ClassSize': 18, 'ClassAttr': 2}\n",
      "{'_id': ObjectId('64299d0f49e2d343b065925a'), 'Index': 95, 'NativeEngSpeaker': 1, 'CourseInst': 11, 'Course': 16, 'Sum/Reg': 2, 'ClassSize': 22, 'ClassAttr': 2}\n",
      "{'_id': ObjectId('64299d0f49e2d343b065925b'), 'Index': 96, 'NativeEngSpeaker': 1, 'CourseInst': 22, 'Course': 13, 'Sum/Reg': 2, 'ClassSize': 27, 'ClassAttr': 2}\n",
      "{'_id': ObjectId('64299d0f49e2d343b065925c'), 'Index': 97, 'NativeEngSpeaker': 2, 'CourseInst': 9, 'Course': 2, 'Sum/Reg': 2, 'ClassSize': 14, 'ClassAttr': 2}\n",
      "{'_id': ObjectId('64299d0f49e2d343b065925d'), 'Index': 98, 'NativeEngSpeaker': 2, 'CourseInst': 13, 'Course': 1, 'Sum/Reg': 2, 'ClassSize': 20, 'ClassAttr': 2}\n",
      "{'_id': ObjectId('64299d0f49e2d343b065925e'), 'Index': 99, 'NativeEngSpeaker': 1, 'CourseInst': 6, 'Course': 17, 'Sum/Reg': 2, 'ClassSize': 35, 'ClassAttr': 2}\n"
     ]
    },
    {
     "name": "stdout",
     "output_type": "stream",
     "text": [
      "{'_id': ObjectId('64299d0f49e2d343b065925f'), 'Index': 100, 'NativeEngSpeaker': 2, 'CourseInst': 23, 'Course': 3, 'Sum/Reg': 1, 'ClassSize': 20, 'ClassAttr': 2}\n",
      "{'_id': ObjectId('64299d0f49e2d343b0659260'), 'Index': 101, 'NativeEngSpeaker': 1, 'CourseInst': 23, 'Course': 3, 'Sum/Reg': 1, 'ClassSize': 20, 'ClassAttr': 2}\n",
      "{'_id': ObjectId('64299d0f49e2d343b0659261'), 'Index': 102, 'NativeEngSpeaker': 2, 'CourseInst': 6, 'Course': 17, 'Sum/Reg': 2, 'ClassSize': 37, 'ClassAttr': 2}\n",
      "{'_id': ObjectId('64299d0f49e2d343b0659262'), 'Index': 103, 'NativeEngSpeaker': 1, 'CourseInst': 22, 'Course': 3, 'Sum/Reg': 2, 'ClassSize': 15, 'ClassAttr': 2}\n",
      "{'_id': ObjectId('64299d0f49e2d343b0659263'), 'Index': 104, 'NativeEngSpeaker': 2, 'CourseInst': 20, 'Course': 2, 'Sum/Reg': 2, 'ClassSize': 25, 'ClassAttr': 2}\n",
      "{'_id': ObjectId('64299d0f49e2d343b0659264'), 'Index': 105, 'NativeEngSpeaker': 2, 'CourseInst': 23, 'Course': 3, 'Sum/Reg': 2, 'ClassSize': 10, 'ClassAttr': 2}\n",
      "{'_id': ObjectId('64299d0f49e2d343b0659265'), 'Index': 106, 'NativeEngSpeaker': 2, 'CourseInst': 20, 'Course': 2, 'Sum/Reg': 2, 'ClassSize': 14, 'ClassAttr': 1}\n",
      "{'_id': ObjectId('64299d0f49e2d343b0659266'), 'Index': 107, 'NativeEngSpeaker': 1, 'CourseInst': 23, 'Course': 3, 'Sum/Reg': 2, 'ClassSize': 38, 'ClassAttr': 1}\n",
      "{'_id': ObjectId('64299d0f49e2d343b0659267'), 'Index': 108, 'NativeEngSpeaker': 2, 'CourseInst': 13, 'Course': 1, 'Sum/Reg': 2, 'ClassSize': 29, 'ClassAttr': 1}\n",
      "{'_id': ObjectId('64299d0f49e2d343b0659268'), 'Index': 109, 'NativeEngSpeaker': 2, 'CourseInst': 10, 'Course': 3, 'Sum/Reg': 2, 'ClassSize': 19, 'ClassAttr': 1}\n",
      "{'_id': ObjectId('64299d0f49e2d343b0659269'), 'Index': 110, 'NativeEngSpeaker': 2, 'CourseInst': 7, 'Course': 11, 'Sum/Reg': 2, 'ClassSize': 30, 'ClassAttr': 1}\n",
      "{'_id': ObjectId('64299d0f49e2d343b065926a'), 'Index': 111, 'NativeEngSpeaker': 1, 'CourseInst': 14, 'Course': 15, 'Sum/Reg': 2, 'ClassSize': 32, 'ClassAttr': 1}\n",
      "{'_id': ObjectId('64299d0f49e2d343b065926b'), 'Index': 112, 'NativeEngSpeaker': 2, 'CourseInst': 8, 'Course': 3, 'Sum/Reg': 2, 'ClassSize': 27, 'ClassAttr': 1}\n",
      "{'_id': ObjectId('64299d0f49e2d343b065926c'), 'Index': 113, 'NativeEngSpeaker': 2, 'CourseInst': 12, 'Course': 7, 'Sum/Reg': 2, 'ClassSize': 34, 'ClassAttr': 1}\n",
      "{'_id': ObjectId('64299d0f49e2d343b065926d'), 'Index': 114, 'NativeEngSpeaker': 2, 'CourseInst': 8, 'Course': 7, 'Sum/Reg': 2, 'ClassSize': 23, 'ClassAttr': 1}\n",
      "{'_id': ObjectId('64299d0f49e2d343b065926e'), 'Index': 115, 'NativeEngSpeaker': 2, 'CourseInst': 15, 'Course': 1, 'Sum/Reg': 2, 'ClassSize': 66, 'ClassAttr': 1}\n",
      "{'_id': ObjectId('64299d0f49e2d343b065926f'), 'Index': 116, 'NativeEngSpeaker': 2, 'CourseInst': 23, 'Course': 3, 'Sum/Reg': 2, 'ClassSize': 12, 'ClassAttr': 1}\n",
      "{'_id': ObjectId('64299d0f49e2d343b0659270'), 'Index': 117, 'NativeEngSpeaker': 2, 'CourseInst': 2, 'Course': 9, 'Sum/Reg': 2, 'ClassSize': 29, 'ClassAttr': 1}\n",
      "{'_id': ObjectId('64299d0f49e2d343b0659271'), 'Index': 118, 'NativeEngSpeaker': 2, 'CourseInst': 15, 'Course': 1, 'Sum/Reg': 2, 'ClassSize': 19, 'ClassAttr': 1}\n",
      "{'_id': ObjectId('64299d0f49e2d343b0659272'), 'Index': 119, 'NativeEngSpeaker': 2, 'CourseInst': 20, 'Course': 2, 'Sum/Reg': 2, 'ClassSize': 3, 'ClassAttr': 1}\n",
      "{'_id': ObjectId('64299d0f49e2d343b0659273'), 'Index': 120, 'NativeEngSpeaker': 2, 'CourseInst': 13, 'Course': 14, 'Sum/Reg': 2, 'ClassSize': 17, 'ClassAttr': 3}\n",
      "{'_id': ObjectId('64299d0f49e2d343b0659274'), 'Index': 121, 'NativeEngSpeaker': 2, 'CourseInst': 9, 'Course': 6, 'Sum/Reg': 2, 'ClassSize': 7, 'ClassAttr': 3}\n",
      "{'_id': ObjectId('64299d0f49e2d343b0659275'), 'Index': 122, 'NativeEngSpeaker': 1, 'CourseInst': 10, 'Course': 3, 'Sum/Reg': 2, 'ClassSize': 21, 'ClassAttr': 3}\n",
      "{'_id': ObjectId('64299d0f49e2d343b0659276'), 'Index': 123, 'NativeEngSpeaker': 2, 'CourseInst': 14, 'Course': 15, 'Sum/Reg': 2, 'ClassSize': 36, 'ClassAttr': 3}\n",
      "{'_id': ObjectId('64299d0f49e2d343b0659277'), 'Index': 124, 'NativeEngSpeaker': 1, 'CourseInst': 13, 'Course': 1, 'Sum/Reg': 2, 'ClassSize': 54, 'ClassAttr': 3}\n",
      "{'_id': ObjectId('64299d0f49e2d343b0659278'), 'Index': 125, 'NativeEngSpeaker': 1, 'CourseInst': 8, 'Course': 3, 'Sum/Reg': 2, 'ClassSize': 29, 'ClassAttr': 3}\n",
      "{'_id': ObjectId('64299d0f49e2d343b0659279'), 'Index': 126, 'NativeEngSpeaker': 2, 'CourseInst': 20, 'Course': 2, 'Sum/Reg': 2, 'ClassSize': 45, 'ClassAttr': 3}\n",
      "{'_id': ObjectId('64299d0f49e2d343b065927a'), 'Index': 127, 'NativeEngSpeaker': 2, 'CourseInst': 22, 'Course': 1, 'Sum/Reg': 2, 'ClassSize': 11, 'ClassAttr': 2}\n",
      "{'_id': ObjectId('64299d0f49e2d343b065927b'), 'Index': 128, 'NativeEngSpeaker': 2, 'CourseInst': 18, 'Course': 12, 'Sum/Reg': 2, 'ClassSize': 16, 'ClassAttr': 2}\n",
      "{'_id': ObjectId('64299d0f49e2d343b065927c'), 'Index': 129, 'NativeEngSpeaker': 2, 'CourseInst': 20, 'Course': 15, 'Sum/Reg': 2, 'ClassSize': 18, 'ClassAttr': 2}\n",
      "{'_id': ObjectId('64299d0f49e2d343b065927d'), 'Index': 130, 'NativeEngSpeaker': 1, 'CourseInst': 17, 'Course': 18, 'Sum/Reg': 2, 'ClassSize': 44, 'ClassAttr': 2}\n",
      "{'_id': ObjectId('64299d0f49e2d343b065927e'), 'Index': 131, 'NativeEngSpeaker': 2, 'CourseInst': 14, 'Course': 23, 'Sum/Reg': 2, 'ClassSize': 17, 'ClassAttr': 2}\n",
      "{'_id': ObjectId('64299d0f49e2d343b065927f'), 'Index': 132, 'NativeEngSpeaker': 2, 'CourseInst': 24, 'Course': 26, 'Sum/Reg': 2, 'ClassSize': 21, 'ClassAttr': 2}\n",
      "{'_id': ObjectId('64299d0f49e2d343b0659280'), 'Index': 133, 'NativeEngSpeaker': 2, 'CourseInst': 9, 'Course': 24, 'Sum/Reg': 2, 'ClassSize': 20, 'ClassAttr': 2}\n",
      "{'_id': ObjectId('64299d0f49e2d343b0659281'), 'Index': 134, 'NativeEngSpeaker': 2, 'CourseInst': 12, 'Course': 8, 'Sum/Reg': 2, 'ClassSize': 24, 'ClassAttr': 2}\n",
      "{'_id': ObjectId('64299d0f49e2d343b0659282'), 'Index': 135, 'NativeEngSpeaker': 2, 'CourseInst': 9, 'Course': 6, 'Sum/Reg': 2, 'ClassSize': 5, 'ClassAttr': 2}\n",
      "{'_id': ObjectId('64299d0f49e2d343b0659283'), 'Index': 136, 'NativeEngSpeaker': 2, 'CourseInst': 22, 'Course': 1, 'Sum/Reg': 2, 'ClassSize': 42, 'ClassAttr': 2}\n",
      "{'_id': ObjectId('64299d0f49e2d343b0659284'), 'Index': 137, 'NativeEngSpeaker': 2, 'CourseInst': 7, 'Course': 11, 'Sum/Reg': 2, 'ClassSize': 30, 'ClassAttr': 1}\n",
      "{'_id': ObjectId('64299d0f49e2d343b0659285'), 'Index': 138, 'NativeEngSpeaker': 2, 'CourseInst': 10, 'Course': 3, 'Sum/Reg': 2, 'ClassSize': 19, 'ClassAttr': 1}\n",
      "{'_id': ObjectId('64299d0f49e2d343b0659286'), 'Index': 139, 'NativeEngSpeaker': 2, 'CourseInst': 23, 'Course': 3, 'Sum/Reg': 2, 'ClassSize': 11, 'ClassAttr': 1}\n",
      "{'_id': ObjectId('64299d0f49e2d343b0659287'), 'Index': 140, 'NativeEngSpeaker': 2, 'CourseInst': 17, 'Course': 18, 'Sum/Reg': 2, 'ClassSize': 29, 'ClassAttr': 1}\n",
      "{'_id': ObjectId('64299d0f49e2d343b0659288'), 'Index': 141, 'NativeEngSpeaker': 2, 'CourseInst': 16, 'Course': 20, 'Sum/Reg': 2, 'ClassSize': 15, 'ClassAttr': 1}\n",
      "{'_id': ObjectId('64299d0f49e2d343b0659289'), 'Index': 142, 'NativeEngSpeaker': 2, 'CourseInst': 3, 'Course': 2, 'Sum/Reg': 2, 'ClassSize': 37, 'ClassAttr': 1}\n",
      "{'_id': ObjectId('64299d0f49e2d343b065928a'), 'Index': 143, 'NativeEngSpeaker': 2, 'CourseInst': 19, 'Course': 4, 'Sum/Reg': 2, 'ClassSize': 10, 'ClassAttr': 1}\n",
      "{'_id': ObjectId('64299d0f49e2d343b065928b'), 'Index': 144, 'NativeEngSpeaker': 2, 'CourseInst': 23, 'Course': 3, 'Sum/Reg': 2, 'ClassSize': 24, 'ClassAttr': 1}\n",
      "{'_id': ObjectId('64299d0f49e2d343b065928c'), 'Index': 145, 'NativeEngSpeaker': 2, 'CourseInst': 3, 'Course': 2, 'Sum/Reg': 2, 'ClassSize': 26, 'ClassAttr': 1}\n",
      "{'_id': ObjectId('64299d0f49e2d343b065928d'), 'Index': 146, 'NativeEngSpeaker': 2, 'CourseInst': 10, 'Course': 3, 'Sum/Reg': 2, 'ClassSize': 12, 'ClassAttr': 1}\n",
      "{'_id': ObjectId('64299d0f49e2d343b065928e'), 'Index': 147, 'NativeEngSpeaker': 1, 'CourseInst': 18, 'Course': 7, 'Sum/Reg': 2, 'ClassSize': 48, 'ClassAttr': 1}\n",
      "{'_id': ObjectId('64299d0f49e2d343b065928f'), 'Index': 148, 'NativeEngSpeaker': 2, 'CourseInst': 22, 'Course': 1, 'Sum/Reg': 2, 'ClassSize': 51, 'ClassAttr': 1}\n",
      "{'_id': ObjectId('64299d0f49e2d343b0659290'), 'Index': 149, 'NativeEngSpeaker': 2, 'CourseInst': 2, 'Course': 10, 'Sum/Reg': 2, 'ClassSize': 27, 'ClassAttr': 1}\n"
     ]
    }
   ],
   "source": [
    "for i in collection.find():\n",
    "    print(i)"
   ]
  },
  {
   "cell_type": "code",
   "execution_count": 19,
   "id": "336fc3da",
   "metadata": {},
   "outputs": [
    {
     "name": "stdout",
     "output_type": "stream",
     "text": [
      "0: {'_id': ObjectId('64299cfc49e2d343b06591fa'), 'id': 1, 'native_english_speaker': 1, 'course_instructor': 23, 'course': 3, 'semester': 1, 'class_size': 19, 'erformance_score': 3}\n",
      "1: {'_id': ObjectId('64299d0f49e2d343b06591fb'), 'Index': 0, 'NativeEngSpeaker': 2, 'CourseInst': 15, 'Course': 3, 'Sum/Reg': 1, 'ClassSize': 17, 'ClassAttr': 3}\n",
      "2: {'_id': ObjectId('64299d0f49e2d343b06591fc'), 'Index': 1, 'NativeEngSpeaker': 1, 'CourseInst': 23, 'Course': 3, 'Sum/Reg': 2, 'ClassSize': 49, 'ClassAttr': 3}\n",
      "3: {'_id': ObjectId('64299d0f49e2d343b06591fd'), 'Index': 2, 'NativeEngSpeaker': 1, 'CourseInst': 5, 'Course': 2, 'Sum/Reg': 2, 'ClassSize': 33, 'ClassAttr': 3}\n",
      "4: {'_id': ObjectId('64299d0f49e2d343b06591fe'), 'Index': 3, 'NativeEngSpeaker': 2, 'CourseInst': 7, 'Course': 11, 'Sum/Reg': 2, 'ClassSize': 55, 'ClassAttr': 3}\n",
      "5: {'_id': ObjectId('64299d0f49e2d343b06591ff'), 'Index': 4, 'NativeEngSpeaker': 2, 'CourseInst': 23, 'Course': 3, 'Sum/Reg': 1, 'ClassSize': 20, 'ClassAttr': 3}\n",
      "6: {'_id': ObjectId('64299d0f49e2d343b0659200'), 'Index': 5, 'NativeEngSpeaker': 2, 'CourseInst': 9, 'Course': 5, 'Sum/Reg': 2, 'ClassSize': 19, 'ClassAttr': 3}\n",
      "7: {'_id': ObjectId('64299d0f49e2d343b0659201'), 'Index': 6, 'NativeEngSpeaker': 2, 'CourseInst': 10, 'Course': 3, 'Sum/Reg': 2, 'ClassSize': 27, 'ClassAttr': 3}\n",
      "8: {'_id': ObjectId('64299d0f49e2d343b0659202'), 'Index': 7, 'NativeEngSpeaker': 1, 'CourseInst': 22, 'Course': 3, 'Sum/Reg': 1, 'ClassSize': 58, 'ClassAttr': 3}\n",
      "9: {'_id': ObjectId('64299d0f49e2d343b0659203'), 'Index': 8, 'NativeEngSpeaker': 2, 'CourseInst': 15, 'Course': 3, 'Sum/Reg': 1, 'ClassSize': 20, 'ClassAttr': 3}\n",
      "10: {'_id': ObjectId('64299d0f49e2d343b0659204'), 'Index': 9, 'NativeEngSpeaker': 2, 'CourseInst': 10, 'Course': 22, 'Sum/Reg': 2, 'ClassSize': 9, 'ClassAttr': 3}\n",
      "11: {'_id': ObjectId('64299d0f49e2d343b0659205'), 'Index': 10, 'NativeEngSpeaker': 2, 'CourseInst': 13, 'Course': 1, 'Sum/Reg': 2, 'ClassSize': 30, 'ClassAttr': 3}\n",
      "12: {'_id': ObjectId('64299d0f49e2d343b0659206'), 'Index': 11, 'NativeEngSpeaker': 2, 'CourseInst': 18, 'Course': 21, 'Sum/Reg': 2, 'ClassSize': 29, 'ClassAttr': 3}\n",
      "13: {'_id': ObjectId('64299d0f49e2d343b0659207'), 'Index': 12, 'NativeEngSpeaker': 2, 'CourseInst': 6, 'Course': 17, 'Sum/Reg': 2, 'ClassSize': 39, 'ClassAttr': 3}\n",
      "14: {'_id': ObjectId('64299d0f49e2d343b0659208'), 'Index': 13, 'NativeEngSpeaker': 2, 'CourseInst': 6, 'Course': 17, 'Sum/Reg': 2, 'ClassSize': 42, 'ClassAttr': 2}\n",
      "15: {'_id': ObjectId('64299d0f49e2d343b0659209'), 'Index': 14, 'NativeEngSpeaker': 2, 'CourseInst': 6, 'Course': 17, 'Sum/Reg': 2, 'ClassSize': 43, 'ClassAttr': 2}\n",
      "16: {'_id': ObjectId('64299d0f49e2d343b065920a'), 'Index': 15, 'NativeEngSpeaker': 2, 'CourseInst': 7, 'Course': 11, 'Sum/Reg': 2, 'ClassSize': 10, 'ClassAttr': 2}\n",
      "17: {'_id': ObjectId('64299d0f49e2d343b065920b'), 'Index': 16, 'NativeEngSpeaker': 2, 'CourseInst': 22, 'Course': 3, 'Sum/Reg': 2, 'ClassSize': 46, 'ClassAttr': 2}\n",
      "18: {'_id': ObjectId('64299d0f49e2d343b065920c'), 'Index': 17, 'NativeEngSpeaker': 2, 'CourseInst': 13, 'Course': 3, 'Sum/Reg': 1, 'ClassSize': 10, 'ClassAttr': 2}\n",
      "19: {'_id': ObjectId('64299d0f49e2d343b065920d'), 'Index': 18, 'NativeEngSpeaker': 2, 'CourseInst': 7, 'Course': 25, 'Sum/Reg': 2, 'ClassSize': 42, 'ClassAttr': 2}\n",
      "20: {'_id': ObjectId('64299d0f49e2d343b065920e'), 'Index': 19, 'NativeEngSpeaker': 2, 'CourseInst': 25, 'Course': 7, 'Sum/Reg': 2, 'ClassSize': 27, 'ClassAttr': 2}\n",
      "21: {'_id': ObjectId('64299d0f49e2d343b065920f'), 'Index': 20, 'NativeEngSpeaker': 2, 'CourseInst': 25, 'Course': 7, 'Sum/Reg': 2, 'ClassSize': 23, 'ClassAttr': 2}\n",
      "22: {'_id': ObjectId('64299d0f49e2d343b0659210'), 'Index': 21, 'NativeEngSpeaker': 2, 'CourseInst': 2, 'Course': 9, 'Sum/Reg': 2, 'ClassSize': 31, 'ClassAttr': 2}\n",
      "23: {'_id': ObjectId('64299d0f49e2d343b0659211'), 'Index': 22, 'NativeEngSpeaker': 2, 'CourseInst': 1, 'Course': 15, 'Sum/Reg': 1, 'ClassSize': 22, 'ClassAttr': 2}\n",
      "24: {'_id': ObjectId('64299d0f49e2d343b0659212'), 'Index': 23, 'NativeEngSpeaker': 2, 'CourseInst': 15, 'Course': 13, 'Sum/Reg': 2, 'ClassSize': 37, 'ClassAttr': 2}\n",
      "25: {'_id': ObjectId('64299d0f49e2d343b0659213'), 'Index': 24, 'NativeEngSpeaker': 2, 'CourseInst': 7, 'Course': 11, 'Sum/Reg': 2, 'ClassSize': 13, 'ClassAttr': 2}\n",
      "26: {'_id': ObjectId('64299d0f49e2d343b0659214'), 'Index': 25, 'NativeEngSpeaker': 2, 'CourseInst': 8, 'Course': 3, 'Sum/Reg': 2, 'ClassSize': 24, 'ClassAttr': 2}\n",
      "27: {'_id': ObjectId('64299d0f49e2d343b0659215'), 'Index': 26, 'NativeEngSpeaker': 2, 'CourseInst': 14, 'Course': 15, 'Sum/Reg': 2, 'ClassSize': 38, 'ClassAttr': 2}\n",
      "28: {'_id': ObjectId('64299d0f49e2d343b0659216'), 'Index': 27, 'NativeEngSpeaker': 2, 'CourseInst': 21, 'Course': 2, 'Sum/Reg': 2, 'ClassSize': 42, 'ClassAttr': 1}\n",
      "29: {'_id': ObjectId('64299d0f49e2d343b0659217'), 'Index': 28, 'NativeEngSpeaker': 2, 'CourseInst': 22, 'Course': 3, 'Sum/Reg': 2, 'ClassSize': 28, 'ClassAttr': 1}\n",
      "30: {'_id': ObjectId('64299d0f49e2d343b0659218'), 'Index': 29, 'NativeEngSpeaker': 2, 'CourseInst': 11, 'Course': 1, 'Sum/Reg': 2, 'ClassSize': 51, 'ClassAttr': 1}\n",
      "31: {'_id': ObjectId('64299d0f49e2d343b0659219'), 'Index': 30, 'NativeEngSpeaker': 2, 'CourseInst': 18, 'Course': 5, 'Sum/Reg': 2, 'ClassSize': 19, 'ClassAttr': 1}\n",
      "32: {'_id': ObjectId('64299d0f49e2d343b065921a'), 'Index': 31, 'NativeEngSpeaker': 2, 'CourseInst': 13, 'Course': 1, 'Sum/Reg': 2, 'ClassSize': 31, 'ClassAttr': 1}\n",
      "33: {'_id': ObjectId('64299d0f49e2d343b065921b'), 'Index': 32, 'NativeEngSpeaker': 1, 'CourseInst': 13, 'Course': 3, 'Sum/Reg': 1, 'ClassSize': 13, 'ClassAttr': 1}\n",
      "34: {'_id': ObjectId('64299d0f49e2d343b065921c'), 'Index': 33, 'NativeEngSpeaker': 2, 'CourseInst': 5, 'Course': 2, 'Sum/Reg': 2, 'ClassSize': 37, 'ClassAttr': 1}\n",
      "35: {'_id': ObjectId('64299d0f49e2d343b065921d'), 'Index': 34, 'NativeEngSpeaker': 2, 'CourseInst': 16, 'Course': 8, 'Sum/Reg': 2, 'ClassSize': 36, 'ClassAttr': 1}\n",
      "36: {'_id': ObjectId('64299d0f49e2d343b065921e'), 'Index': 35, 'NativeEngSpeaker': 2, 'CourseInst': 4, 'Course': 16, 'Sum/Reg': 2, 'ClassSize': 21, 'ClassAttr': 1}\n",
      "37: {'_id': ObjectId('64299d0f49e2d343b065921f'), 'Index': 36, 'NativeEngSpeaker': 2, 'CourseInst': 5, 'Course': 2, 'Sum/Reg': 2, 'ClassSize': 48, 'ClassAttr': 1}\n",
      "38: {'_id': ObjectId('64299d0f49e2d343b0659220'), 'Index': 37, 'NativeEngSpeaker': 2, 'CourseInst': 14, 'Course': 15, 'Sum/Reg': 2, 'ClassSize': 38, 'ClassAttr': 1}\n",
      "39: {'_id': ObjectId('64299d0f49e2d343b0659221'), 'Index': 38, 'NativeEngSpeaker': 1, 'CourseInst': 23, 'Course': 3, 'Sum/Reg': 1, 'ClassSize': 19, 'ClassAttr': 3}\n",
      "40: {'_id': ObjectId('64299d0f49e2d343b0659222'), 'Index': 39, 'NativeEngSpeaker': 2, 'CourseInst': 15, 'Course': 3, 'Sum/Reg': 1, 'ClassSize': 17, 'ClassAttr': 3}\n",
      "41: {'_id': ObjectId('64299d0f49e2d343b0659223'), 'Index': 40, 'NativeEngSpeaker': 1, 'CourseInst': 23, 'Course': 3, 'Sum/Reg': 2, 'ClassSize': 49, 'ClassAttr': 3}\n",
      "42: {'_id': ObjectId('64299d0f49e2d343b0659224'), 'Index': 41, 'NativeEngSpeaker': 1, 'CourseInst': 5, 'Course': 2, 'Sum/Reg': 2, 'ClassSize': 33, 'ClassAttr': 3}\n",
      "43: {'_id': ObjectId('64299d0f49e2d343b0659225'), 'Index': 42, 'NativeEngSpeaker': 2, 'CourseInst': 7, 'Course': 11, 'Sum/Reg': 2, 'ClassSize': 55, 'ClassAttr': 3}\n",
      "44: {'_id': ObjectId('64299d0f49e2d343b0659226'), 'Index': 43, 'NativeEngSpeaker': 2, 'CourseInst': 23, 'Course': 3, 'Sum/Reg': 1, 'ClassSize': 20, 'ClassAttr': 3}\n",
      "45: {'_id': ObjectId('64299d0f49e2d343b0659227'), 'Index': 44, 'NativeEngSpeaker': 2, 'CourseInst': 9, 'Course': 5, 'Sum/Reg': 2, 'ClassSize': 19, 'ClassAttr': 3}\n",
      "46: {'_id': ObjectId('64299d0f49e2d343b0659228'), 'Index': 45, 'NativeEngSpeaker': 2, 'CourseInst': 10, 'Course': 3, 'Sum/Reg': 2, 'ClassSize': 27, 'ClassAttr': 3}\n",
      "47: {'_id': ObjectId('64299d0f49e2d343b0659229'), 'Index': 46, 'NativeEngSpeaker': 1, 'CourseInst': 22, 'Course': 3, 'Sum/Reg': 2, 'ClassSize': 58, 'ClassAttr': 3}\n",
      "48: {'_id': ObjectId('64299d0f49e2d343b065922a'), 'Index': 47, 'NativeEngSpeaker': 2, 'CourseInst': 15, 'Course': 3, 'Sum/Reg': 1, 'ClassSize': 20, 'ClassAttr': 3}\n",
      "49: {'_id': ObjectId('64299d0f49e2d343b065922b'), 'Index': 48, 'NativeEngSpeaker': 2, 'CourseInst': 10, 'Course': 22, 'Sum/Reg': 2, 'ClassSize': 9, 'ClassAttr': 3}\n",
      "50: {'_id': ObjectId('64299d0f49e2d343b065922c'), 'Index': 49, 'NativeEngSpeaker': 2, 'CourseInst': 13, 'Course': 1, 'Sum/Reg': 2, 'ClassSize': 30, 'ClassAttr': 3}\n",
      "51: {'_id': ObjectId('64299d0f49e2d343b065922d'), 'Index': 50, 'NativeEngSpeaker': 2, 'CourseInst': 18, 'Course': 21, 'Sum/Reg': 2, 'ClassSize': 29, 'ClassAttr': 3}\n",
      "52: {'_id': ObjectId('64299d0f49e2d343b065922e'), 'Index': 51, 'NativeEngSpeaker': 2, 'CourseInst': 6, 'Course': 17, 'Sum/Reg': 2, 'ClassSize': 39, 'ClassAttr': 3}\n",
      "53: {'_id': ObjectId('64299d0f49e2d343b065922f'), 'Index': 52, 'NativeEngSpeaker': 2, 'CourseInst': 6, 'Course': 17, 'Sum/Reg': 2, 'ClassSize': 42, 'ClassAttr': 2}\n",
      "54: {'_id': ObjectId('64299d0f49e2d343b0659230'), 'Index': 53, 'NativeEngSpeaker': 2, 'CourseInst': 6, 'Course': 17, 'Sum/Reg': 2, 'ClassSize': 43, 'ClassAttr': 2}\n",
      "55: {'_id': ObjectId('64299d0f49e2d343b0659231'), 'Index': 54, 'NativeEngSpeaker': 2, 'CourseInst': 7, 'Course': 11, 'Sum/Reg': 2, 'ClassSize': 10, 'ClassAttr': 2}\n",
      "56: {'_id': ObjectId('64299d0f49e2d343b0659232'), 'Index': 55, 'NativeEngSpeaker': 2, 'CourseInst': 22, 'Course': 3, 'Sum/Reg': 2, 'ClassSize': 46, 'ClassAttr': 2}\n",
      "57: {'_id': ObjectId('64299d0f49e2d343b0659233'), 'Index': 56, 'NativeEngSpeaker': 2, 'CourseInst': 13, 'Course': 3, 'Sum/Reg': 1, 'ClassSize': 10, 'ClassAttr': 2}\n",
      "58: {'_id': ObjectId('64299d0f49e2d343b0659234'), 'Index': 57, 'NativeEngSpeaker': 2, 'CourseInst': 7, 'Course': 25, 'Sum/Reg': 2, 'ClassSize': 42, 'ClassAttr': 2}\n",
      "59: {'_id': ObjectId('64299d0f49e2d343b0659235'), 'Index': 58, 'NativeEngSpeaker': 2, 'CourseInst': 25, 'Course': 7, 'Sum/Reg': 2, 'ClassSize': 27, 'ClassAttr': 2}\n",
      "60: {'_id': ObjectId('64299d0f49e2d343b0659236'), 'Index': 59, 'NativeEngSpeaker': 2, 'CourseInst': 25, 'Course': 7, 'Sum/Reg': 2, 'ClassSize': 23, 'ClassAttr': 2}\n",
      "61: {'_id': ObjectId('64299d0f49e2d343b0659237'), 'Index': 60, 'NativeEngSpeaker': 2, 'CourseInst': 2, 'Course': 9, 'Sum/Reg': 2, 'ClassSize': 31, 'ClassAttr': 2}\n",
      "62: {'_id': ObjectId('64299d0f49e2d343b0659238'), 'Index': 61, 'NativeEngSpeaker': 2, 'CourseInst': 1, 'Course': 15, 'Sum/Reg': 1, 'ClassSize': 22, 'ClassAttr': 2}\n",
      "63: {'_id': ObjectId('64299d0f49e2d343b0659239'), 'Index': 62, 'NativeEngSpeaker': 2, 'CourseInst': 15, 'Course': 13, 'Sum/Reg': 2, 'ClassSize': 37, 'ClassAttr': 2}\n",
      "64: {'_id': ObjectId('64299d0f49e2d343b065923a'), 'Index': 63, 'NativeEngSpeaker': 2, 'CourseInst': 7, 'Course': 11, 'Sum/Reg': 2, 'ClassSize': 13, 'ClassAttr': 2}\n",
      "65: {'_id': ObjectId('64299d0f49e2d343b065923b'), 'Index': 64, 'NativeEngSpeaker': 2, 'CourseInst': 8, 'Course': 3, 'Sum/Reg': 2, 'ClassSize': 24, 'ClassAttr': 2}\n",
      "66: {'_id': ObjectId('64299d0f49e2d343b065923c'), 'Index': 65, 'NativeEngSpeaker': 2, 'CourseInst': 14, 'Course': 15, 'Sum/Reg': 2, 'ClassSize': 38, 'ClassAttr': 2}\n",
      "67: {'_id': ObjectId('64299d0f49e2d343b065923d'), 'Index': 66, 'NativeEngSpeaker': 2, 'CourseInst': 21, 'Course': 2, 'Sum/Reg': 2, 'ClassSize': 42, 'ClassAttr': 1}\n",
      "68: {'_id': ObjectId('64299d0f49e2d343b065923e'), 'Index': 67, 'NativeEngSpeaker': 2, 'CourseInst': 22, 'Course': 3, 'Sum/Reg': 2, 'ClassSize': 28, 'ClassAttr': 1}\n",
      "69: {'_id': ObjectId('64299d0f49e2d343b065923f'), 'Index': 68, 'NativeEngSpeaker': 2, 'CourseInst': 11, 'Course': 1, 'Sum/Reg': 2, 'ClassSize': 51, 'ClassAttr': 1}\n",
      "70: {'_id': ObjectId('64299d0f49e2d343b0659240'), 'Index': 69, 'NativeEngSpeaker': 2, 'CourseInst': 18, 'Course': 5, 'Sum/Reg': 2, 'ClassSize': 19, 'ClassAttr': 1}\n",
      "71: {'_id': ObjectId('64299d0f49e2d343b0659241'), 'Index': 70, 'NativeEngSpeaker': 2, 'CourseInst': 13, 'Course': 1, 'Sum/Reg': 2, 'ClassSize': 31, 'ClassAttr': 1}\n",
      "72: {'_id': ObjectId('64299d0f49e2d343b0659242'), 'Index': 71, 'NativeEngSpeaker': 1, 'CourseInst': 13, 'Course': 3, 'Sum/Reg': 1, 'ClassSize': 13, 'ClassAttr': 1}\n",
      "73: {'_id': ObjectId('64299d0f49e2d343b0659243'), 'Index': 72, 'NativeEngSpeaker': 2, 'CourseInst': 5, 'Course': 2, 'Sum/Reg': 2, 'ClassSize': 37, 'ClassAttr': 1}\n",
      "74: {'_id': ObjectId('64299d0f49e2d343b0659244'), 'Index': 73, 'NativeEngSpeaker': 2, 'CourseInst': 16, 'Course': 8, 'Sum/Reg': 2, 'ClassSize': 36, 'ClassAttr': 1}\n",
      "75: {'_id': ObjectId('64299d0f49e2d343b0659245'), 'Index': 74, 'NativeEngSpeaker': 2, 'CourseInst': 4, 'Course': 16, 'Sum/Reg': 2, 'ClassSize': 21, 'ClassAttr': 1}\n",
      "76: {'_id': ObjectId('64299d0f49e2d343b0659246'), 'Index': 75, 'NativeEngSpeaker': 2, 'CourseInst': 5, 'Course': 2, 'Sum/Reg': 2, 'ClassSize': 48, 'ClassAttr': 1}\n",
      "77: {'_id': ObjectId('64299d0f49e2d343b0659247'), 'Index': 76, 'NativeEngSpeaker': 2, 'CourseInst': 14, 'Course': 15, 'Sum/Reg': 2, 'ClassSize': 38, 'ClassAttr': 1}\n",
      "78: {'_id': ObjectId('64299d0f49e2d343b0659248'), 'Index': 77, 'NativeEngSpeaker': 1, 'CourseInst': 23, 'Course': 3, 'Sum/Reg': 1, 'ClassSize': 25, 'ClassAttr': 3}\n",
      "79: {'_id': ObjectId('64299d0f49e2d343b0659249'), 'Index': 78, 'NativeEngSpeaker': 1, 'CourseInst': 13, 'Course': 3, 'Sum/Reg': 1, 'ClassSize': 17, 'ClassAttr': 3}\n",
      "80: {'_id': ObjectId('64299d0f49e2d343b065924a'), 'Index': 79, 'NativeEngSpeaker': 2, 'CourseInst': 16, 'Course': 19, 'Sum/Reg': 2, 'ClassSize': 11, 'ClassAttr': 3}\n",
      "81: {'_id': ObjectId('64299d0f49e2d343b065924b'), 'Index': 80, 'NativeEngSpeaker': 2, 'CourseInst': 9, 'Course': 2, 'Sum/Reg': 2, 'ClassSize': 39, 'ClassAttr': 3}\n",
      "82: {'_id': ObjectId('64299d0f49e2d343b065924c'), 'Index': 81, 'NativeEngSpeaker': 2, 'CourseInst': 13, 'Course': 3, 'Sum/Reg': 1, 'ClassSize': 11, 'ClassAttr': 3}\n",
      "83: {'_id': ObjectId('64299d0f49e2d343b065924d'), 'Index': 82, 'NativeEngSpeaker': 2, 'CourseInst': 18, 'Course': 21, 'Sum/Reg': 2, 'ClassSize': 19, 'ClassAttr': 3}\n",
      "84: {'_id': ObjectId('64299d0f49e2d343b065924e'), 'Index': 83, 'NativeEngSpeaker': 1, 'CourseInst': 22, 'Course': 3, 'Sum/Reg': 2, 'ClassSize': 45, 'ClassAttr': 3}\n",
      "85: {'_id': ObjectId('64299d0f49e2d343b065924f'), 'Index': 84, 'NativeEngSpeaker': 2, 'CourseInst': 7, 'Course': 11, 'Sum/Reg': 1, 'ClassSize': 20, 'ClassAttr': 3}\n",
      "86: {'_id': ObjectId('64299d0f49e2d343b0659250'), 'Index': 85, 'NativeEngSpeaker': 2, 'CourseInst': 23, 'Course': 3, 'Sum/Reg': 1, 'ClassSize': 20, 'ClassAttr': 3}\n",
      "87: {'_id': ObjectId('64299d0f49e2d343b0659251'), 'Index': 86, 'NativeEngSpeaker': 1, 'CourseInst': 23, 'Course': 3, 'Sum/Reg': 1, 'ClassSize': 20, 'ClassAttr': 3}\n",
      "88: {'_id': ObjectId('64299d0f49e2d343b0659252'), 'Index': 87, 'NativeEngSpeaker': 1, 'CourseInst': 23, 'Course': 3, 'Sum/Reg': 2, 'ClassSize': 38, 'ClassAttr': 3}\n",
      "89: {'_id': ObjectId('64299d0f49e2d343b0659253'), 'Index': 88, 'NativeEngSpeaker': 2, 'CourseInst': 14, 'Course': 22, 'Sum/Reg': 2, 'ClassSize': 17, 'ClassAttr': 3}\n",
      "90: {'_id': ObjectId('64299d0f49e2d343b0659254'), 'Index': 89, 'NativeEngSpeaker': 1, 'CourseInst': 17, 'Course': 17, 'Sum/Reg': 2, 'ClassSize': 19, 'ClassAttr': 3}\n",
      "91: {'_id': ObjectId('64299d0f49e2d343b0659255'), 'Index': 90, 'NativeEngSpeaker': 2, 'CourseInst': 9, 'Course': 5, 'Sum/Reg': 2, 'ClassSize': 24, 'ClassAttr': 3}\n",
      "92: {'_id': ObjectId('64299d0f49e2d343b0659256'), 'Index': 91, 'NativeEngSpeaker': 2, 'CourseInst': 18, 'Course': 25, 'Sum/Reg': 2, 'ClassSize': 25, 'ClassAttr': 3}\n",
      "93: {'_id': ObjectId('64299d0f49e2d343b0659257'), 'Index': 92, 'NativeEngSpeaker': 1, 'CourseInst': 17, 'Course': 17, 'Sum/Reg': 2, 'ClassSize': 31, 'ClassAttr': 3}\n",
      "94: {'_id': ObjectId('64299d0f49e2d343b0659258'), 'Index': 93, 'NativeEngSpeaker': 2, 'CourseInst': 1, 'Course': 15, 'Sum/Reg': 2, 'ClassSize': 31, 'ClassAttr': 3}\n",
      "95: {'_id': ObjectId('64299d0f49e2d343b0659259'), 'Index': 94, 'NativeEngSpeaker': 2, 'CourseInst': 1, 'Course': 8, 'Sum/Reg': 2, 'ClassSize': 18, 'ClassAttr': 2}\n",
      "96: {'_id': ObjectId('64299d0f49e2d343b065925a'), 'Index': 95, 'NativeEngSpeaker': 1, 'CourseInst': 11, 'Course': 16, 'Sum/Reg': 2, 'ClassSize': 22, 'ClassAttr': 2}\n",
      "97: {'_id': ObjectId('64299d0f49e2d343b065925b'), 'Index': 96, 'NativeEngSpeaker': 1, 'CourseInst': 22, 'Course': 13, 'Sum/Reg': 2, 'ClassSize': 27, 'ClassAttr': 2}\n",
      "98: {'_id': ObjectId('64299d0f49e2d343b065925c'), 'Index': 97, 'NativeEngSpeaker': 2, 'CourseInst': 9, 'Course': 2, 'Sum/Reg': 2, 'ClassSize': 14, 'ClassAttr': 2}\n",
      "99: {'_id': ObjectId('64299d0f49e2d343b065925d'), 'Index': 98, 'NativeEngSpeaker': 2, 'CourseInst': 13, 'Course': 1, 'Sum/Reg': 2, 'ClassSize': 20, 'ClassAttr': 2}\n",
      "100: {'_id': ObjectId('64299d0f49e2d343b065925e'), 'Index': 99, 'NativeEngSpeaker': 1, 'CourseInst': 6, 'Course': 17, 'Sum/Reg': 2, 'ClassSize': 35, 'ClassAttr': 2}\n"
     ]
    },
    {
     "name": "stdout",
     "output_type": "stream",
     "text": [
      "101: {'_id': ObjectId('64299d0f49e2d343b065925f'), 'Index': 100, 'NativeEngSpeaker': 2, 'CourseInst': 23, 'Course': 3, 'Sum/Reg': 1, 'ClassSize': 20, 'ClassAttr': 2}\n",
      "102: {'_id': ObjectId('64299d0f49e2d343b0659260'), 'Index': 101, 'NativeEngSpeaker': 1, 'CourseInst': 23, 'Course': 3, 'Sum/Reg': 1, 'ClassSize': 20, 'ClassAttr': 2}\n",
      "103: {'_id': ObjectId('64299d0f49e2d343b0659261'), 'Index': 102, 'NativeEngSpeaker': 2, 'CourseInst': 6, 'Course': 17, 'Sum/Reg': 2, 'ClassSize': 37, 'ClassAttr': 2}\n",
      "104: {'_id': ObjectId('64299d0f49e2d343b0659262'), 'Index': 103, 'NativeEngSpeaker': 1, 'CourseInst': 22, 'Course': 3, 'Sum/Reg': 2, 'ClassSize': 15, 'ClassAttr': 2}\n",
      "105: {'_id': ObjectId('64299d0f49e2d343b0659263'), 'Index': 104, 'NativeEngSpeaker': 2, 'CourseInst': 20, 'Course': 2, 'Sum/Reg': 2, 'ClassSize': 25, 'ClassAttr': 2}\n",
      "106: {'_id': ObjectId('64299d0f49e2d343b0659264'), 'Index': 105, 'NativeEngSpeaker': 2, 'CourseInst': 23, 'Course': 3, 'Sum/Reg': 2, 'ClassSize': 10, 'ClassAttr': 2}\n",
      "107: {'_id': ObjectId('64299d0f49e2d343b0659265'), 'Index': 106, 'NativeEngSpeaker': 2, 'CourseInst': 20, 'Course': 2, 'Sum/Reg': 2, 'ClassSize': 14, 'ClassAttr': 1}\n",
      "108: {'_id': ObjectId('64299d0f49e2d343b0659266'), 'Index': 107, 'NativeEngSpeaker': 1, 'CourseInst': 23, 'Course': 3, 'Sum/Reg': 2, 'ClassSize': 38, 'ClassAttr': 1}\n",
      "109: {'_id': ObjectId('64299d0f49e2d343b0659267'), 'Index': 108, 'NativeEngSpeaker': 2, 'CourseInst': 13, 'Course': 1, 'Sum/Reg': 2, 'ClassSize': 29, 'ClassAttr': 1}\n",
      "110: {'_id': ObjectId('64299d0f49e2d343b0659268'), 'Index': 109, 'NativeEngSpeaker': 2, 'CourseInst': 10, 'Course': 3, 'Sum/Reg': 2, 'ClassSize': 19, 'ClassAttr': 1}\n",
      "111: {'_id': ObjectId('64299d0f49e2d343b0659269'), 'Index': 110, 'NativeEngSpeaker': 2, 'CourseInst': 7, 'Course': 11, 'Sum/Reg': 2, 'ClassSize': 30, 'ClassAttr': 1}\n",
      "112: {'_id': ObjectId('64299d0f49e2d343b065926a'), 'Index': 111, 'NativeEngSpeaker': 1, 'CourseInst': 14, 'Course': 15, 'Sum/Reg': 2, 'ClassSize': 32, 'ClassAttr': 1}\n",
      "113: {'_id': ObjectId('64299d0f49e2d343b065926b'), 'Index': 112, 'NativeEngSpeaker': 2, 'CourseInst': 8, 'Course': 3, 'Sum/Reg': 2, 'ClassSize': 27, 'ClassAttr': 1}\n",
      "114: {'_id': ObjectId('64299d0f49e2d343b065926c'), 'Index': 113, 'NativeEngSpeaker': 2, 'CourseInst': 12, 'Course': 7, 'Sum/Reg': 2, 'ClassSize': 34, 'ClassAttr': 1}\n",
      "115: {'_id': ObjectId('64299d0f49e2d343b065926d'), 'Index': 114, 'NativeEngSpeaker': 2, 'CourseInst': 8, 'Course': 7, 'Sum/Reg': 2, 'ClassSize': 23, 'ClassAttr': 1}\n",
      "116: {'_id': ObjectId('64299d0f49e2d343b065926e'), 'Index': 115, 'NativeEngSpeaker': 2, 'CourseInst': 15, 'Course': 1, 'Sum/Reg': 2, 'ClassSize': 66, 'ClassAttr': 1}\n",
      "117: {'_id': ObjectId('64299d0f49e2d343b065926f'), 'Index': 116, 'NativeEngSpeaker': 2, 'CourseInst': 23, 'Course': 3, 'Sum/Reg': 2, 'ClassSize': 12, 'ClassAttr': 1}\n",
      "118: {'_id': ObjectId('64299d0f49e2d343b0659270'), 'Index': 117, 'NativeEngSpeaker': 2, 'CourseInst': 2, 'Course': 9, 'Sum/Reg': 2, 'ClassSize': 29, 'ClassAttr': 1}\n",
      "119: {'_id': ObjectId('64299d0f49e2d343b0659271'), 'Index': 118, 'NativeEngSpeaker': 2, 'CourseInst': 15, 'Course': 1, 'Sum/Reg': 2, 'ClassSize': 19, 'ClassAttr': 1}\n",
      "120: {'_id': ObjectId('64299d0f49e2d343b0659272'), 'Index': 119, 'NativeEngSpeaker': 2, 'CourseInst': 20, 'Course': 2, 'Sum/Reg': 2, 'ClassSize': 3, 'ClassAttr': 1}\n",
      "121: {'_id': ObjectId('64299d0f49e2d343b0659273'), 'Index': 120, 'NativeEngSpeaker': 2, 'CourseInst': 13, 'Course': 14, 'Sum/Reg': 2, 'ClassSize': 17, 'ClassAttr': 3}\n",
      "122: {'_id': ObjectId('64299d0f49e2d343b0659274'), 'Index': 121, 'NativeEngSpeaker': 2, 'CourseInst': 9, 'Course': 6, 'Sum/Reg': 2, 'ClassSize': 7, 'ClassAttr': 3}\n",
      "123: {'_id': ObjectId('64299d0f49e2d343b0659275'), 'Index': 122, 'NativeEngSpeaker': 1, 'CourseInst': 10, 'Course': 3, 'Sum/Reg': 2, 'ClassSize': 21, 'ClassAttr': 3}\n",
      "124: {'_id': ObjectId('64299d0f49e2d343b0659276'), 'Index': 123, 'NativeEngSpeaker': 2, 'CourseInst': 14, 'Course': 15, 'Sum/Reg': 2, 'ClassSize': 36, 'ClassAttr': 3}\n",
      "125: {'_id': ObjectId('64299d0f49e2d343b0659277'), 'Index': 124, 'NativeEngSpeaker': 1, 'CourseInst': 13, 'Course': 1, 'Sum/Reg': 2, 'ClassSize': 54, 'ClassAttr': 3}\n",
      "126: {'_id': ObjectId('64299d0f49e2d343b0659278'), 'Index': 125, 'NativeEngSpeaker': 1, 'CourseInst': 8, 'Course': 3, 'Sum/Reg': 2, 'ClassSize': 29, 'ClassAttr': 3}\n",
      "127: {'_id': ObjectId('64299d0f49e2d343b0659279'), 'Index': 126, 'NativeEngSpeaker': 2, 'CourseInst': 20, 'Course': 2, 'Sum/Reg': 2, 'ClassSize': 45, 'ClassAttr': 3}\n",
      "128: {'_id': ObjectId('64299d0f49e2d343b065927a'), 'Index': 127, 'NativeEngSpeaker': 2, 'CourseInst': 22, 'Course': 1, 'Sum/Reg': 2, 'ClassSize': 11, 'ClassAttr': 2}\n",
      "129: {'_id': ObjectId('64299d0f49e2d343b065927b'), 'Index': 128, 'NativeEngSpeaker': 2, 'CourseInst': 18, 'Course': 12, 'Sum/Reg': 2, 'ClassSize': 16, 'ClassAttr': 2}\n",
      "130: {'_id': ObjectId('64299d0f49e2d343b065927c'), 'Index': 129, 'NativeEngSpeaker': 2, 'CourseInst': 20, 'Course': 15, 'Sum/Reg': 2, 'ClassSize': 18, 'ClassAttr': 2}\n",
      "131: {'_id': ObjectId('64299d0f49e2d343b065927d'), 'Index': 130, 'NativeEngSpeaker': 1, 'CourseInst': 17, 'Course': 18, 'Sum/Reg': 2, 'ClassSize': 44, 'ClassAttr': 2}\n",
      "132: {'_id': ObjectId('64299d0f49e2d343b065927e'), 'Index': 131, 'NativeEngSpeaker': 2, 'CourseInst': 14, 'Course': 23, 'Sum/Reg': 2, 'ClassSize': 17, 'ClassAttr': 2}\n",
      "133: {'_id': ObjectId('64299d0f49e2d343b065927f'), 'Index': 132, 'NativeEngSpeaker': 2, 'CourseInst': 24, 'Course': 26, 'Sum/Reg': 2, 'ClassSize': 21, 'ClassAttr': 2}\n",
      "134: {'_id': ObjectId('64299d0f49e2d343b0659280'), 'Index': 133, 'NativeEngSpeaker': 2, 'CourseInst': 9, 'Course': 24, 'Sum/Reg': 2, 'ClassSize': 20, 'ClassAttr': 2}\n",
      "135: {'_id': ObjectId('64299d0f49e2d343b0659281'), 'Index': 134, 'NativeEngSpeaker': 2, 'CourseInst': 12, 'Course': 8, 'Sum/Reg': 2, 'ClassSize': 24, 'ClassAttr': 2}\n",
      "136: {'_id': ObjectId('64299d0f49e2d343b0659282'), 'Index': 135, 'NativeEngSpeaker': 2, 'CourseInst': 9, 'Course': 6, 'Sum/Reg': 2, 'ClassSize': 5, 'ClassAttr': 2}\n",
      "137: {'_id': ObjectId('64299d0f49e2d343b0659283'), 'Index': 136, 'NativeEngSpeaker': 2, 'CourseInst': 22, 'Course': 1, 'Sum/Reg': 2, 'ClassSize': 42, 'ClassAttr': 2}\n",
      "138: {'_id': ObjectId('64299d0f49e2d343b0659284'), 'Index': 137, 'NativeEngSpeaker': 2, 'CourseInst': 7, 'Course': 11, 'Sum/Reg': 2, 'ClassSize': 30, 'ClassAttr': 1}\n",
      "139: {'_id': ObjectId('64299d0f49e2d343b0659285'), 'Index': 138, 'NativeEngSpeaker': 2, 'CourseInst': 10, 'Course': 3, 'Sum/Reg': 2, 'ClassSize': 19, 'ClassAttr': 1}\n",
      "140: {'_id': ObjectId('64299d0f49e2d343b0659286'), 'Index': 139, 'NativeEngSpeaker': 2, 'CourseInst': 23, 'Course': 3, 'Sum/Reg': 2, 'ClassSize': 11, 'ClassAttr': 1}\n",
      "141: {'_id': ObjectId('64299d0f49e2d343b0659287'), 'Index': 140, 'NativeEngSpeaker': 2, 'CourseInst': 17, 'Course': 18, 'Sum/Reg': 2, 'ClassSize': 29, 'ClassAttr': 1}\n",
      "142: {'_id': ObjectId('64299d0f49e2d343b0659288'), 'Index': 141, 'NativeEngSpeaker': 2, 'CourseInst': 16, 'Course': 20, 'Sum/Reg': 2, 'ClassSize': 15, 'ClassAttr': 1}\n",
      "143: {'_id': ObjectId('64299d0f49e2d343b0659289'), 'Index': 142, 'NativeEngSpeaker': 2, 'CourseInst': 3, 'Course': 2, 'Sum/Reg': 2, 'ClassSize': 37, 'ClassAttr': 1}\n",
      "144: {'_id': ObjectId('64299d0f49e2d343b065928a'), 'Index': 143, 'NativeEngSpeaker': 2, 'CourseInst': 19, 'Course': 4, 'Sum/Reg': 2, 'ClassSize': 10, 'ClassAttr': 1}\n",
      "145: {'_id': ObjectId('64299d0f49e2d343b065928b'), 'Index': 144, 'NativeEngSpeaker': 2, 'CourseInst': 23, 'Course': 3, 'Sum/Reg': 2, 'ClassSize': 24, 'ClassAttr': 1}\n",
      "146: {'_id': ObjectId('64299d0f49e2d343b065928c'), 'Index': 145, 'NativeEngSpeaker': 2, 'CourseInst': 3, 'Course': 2, 'Sum/Reg': 2, 'ClassSize': 26, 'ClassAttr': 1}\n",
      "147: {'_id': ObjectId('64299d0f49e2d343b065928d'), 'Index': 146, 'NativeEngSpeaker': 2, 'CourseInst': 10, 'Course': 3, 'Sum/Reg': 2, 'ClassSize': 12, 'ClassAttr': 1}\n",
      "148: {'_id': ObjectId('64299d0f49e2d343b065928e'), 'Index': 147, 'NativeEngSpeaker': 1, 'CourseInst': 18, 'Course': 7, 'Sum/Reg': 2, 'ClassSize': 48, 'ClassAttr': 1}\n",
      "149: {'_id': ObjectId('64299d0f49e2d343b065928f'), 'Index': 148, 'NativeEngSpeaker': 2, 'CourseInst': 22, 'Course': 1, 'Sum/Reg': 2, 'ClassSize': 51, 'ClassAttr': 1}\n",
      "150: {'_id': ObjectId('64299d0f49e2d343b0659290'), 'Index': 149, 'NativeEngSpeaker': 2, 'CourseInst': 2, 'Course': 10, 'Sum/Reg': 2, 'ClassSize': 27, 'ClassAttr': 1}\n"
     ]
    }
   ],
   "source": [
    "# find all the record at once present in thr record with all the fields\n",
    "all_record = collection.find()\n",
    "\n",
    "for idx, record in enumerate(all_record):\n",
    "    print(f\"{idx}: {record}\")"
   ]
  },
  {
   "cell_type": "markdown",
   "id": "2e10284c",
   "metadata": {},
   "source": [
    "### Query or Filter out data "
   ]
  },
  {
   "cell_type": "code",
   "execution_count": 20,
   "id": "0644be51",
   "metadata": {
    "scrolled": true
   },
   "outputs": [
    {
     "name": "stdout",
     "output_type": "stream",
     "text": [
      "{'_id': ObjectId('64299d0f49e2d343b065920f'), 'Index': 20, 'NativeEngSpeaker': 2, 'CourseInst': 25, 'Course': 7, 'Sum/Reg': 2, 'ClassSize': 23, 'ClassAttr': 2}\n",
      "{'_id': ObjectId('64299d0f49e2d343b0659236'), 'Index': 59, 'NativeEngSpeaker': 2, 'CourseInst': 25, 'Course': 7, 'Sum/Reg': 2, 'ClassSize': 23, 'ClassAttr': 2}\n",
      "{'_id': ObjectId('64299d0f49e2d343b065926d'), 'Index': 114, 'NativeEngSpeaker': 2, 'CourseInst': 8, 'Course': 7, 'Sum/Reg': 2, 'ClassSize': 23, 'ClassAttr': 1}\n"
     ]
    }
   ],
   "source": [
    "for i in collection.find({'ClassSize':23}):\n",
    "    print(i)"
   ]
  },
  {
   "cell_type": "code",
   "execution_count": 21,
   "id": "6899cbc6",
   "metadata": {},
   "outputs": [
    {
     "name": "stdout",
     "output_type": "stream",
     "text": [
      "{'_id': ObjectId('64299d0f49e2d343b0659237'), 'Index': 60, 'NativeEngSpeaker': 2, 'CourseInst': 2, 'Course': 9, 'Sum/Reg': 2, 'ClassSize': 31, 'ClassAttr': 2}\n"
     ]
    }
   ],
   "source": [
    "query2 = {\"Index\": 60}\n",
    "\n",
    "results = collection.find(query2)\n",
    "for data in results:\n",
    "    print(data)"
   ]
  },
  {
   "cell_type": "markdown",
   "id": "c4d0de2f",
   "metadata": {},
   "source": [
    "### Deleting one or more records"
   ]
  },
  {
   "cell_type": "code",
   "execution_count": 22,
   "id": "7ce3a76a",
   "metadata": {},
   "outputs": [],
   "source": [
    "random_data = [\n",
    "    {'Index': 600, 'NativeEngSpeaker': 2, 'CourseInst': 2, 'Course': 9, 'Sum/Reg': 2, 'ClassSize': 31, 'ClassAttr': 2},\n",
    "    {'Index': 601, 'NativeEngSpeaker': 2, 'CourseInst': 2, 'Course': 9, 'Sum/Reg': 2, 'ClassSize': 31, 'ClassAttr': 2},\n",
    "    {'Index': 602, 'NativeEngSpeaker': 2, 'CourseInst': 2, 'Course': 9, 'Sum/Reg': 2, 'ClassSize': 31, 'ClassAttr': 2}\n",
    "]"
   ]
  },
  {
   "cell_type": "code",
   "execution_count": 23,
   "id": "9bb29371",
   "metadata": {},
   "outputs": [
    {
     "data": {
      "text/plain": [
       "<pymongo.results.InsertManyResult at 0x155c489fdf0>"
      ]
     },
     "execution_count": 23,
     "metadata": {},
     "output_type": "execute_result"
    }
   ],
   "source": [
    "collection.insert_many(random_data)"
   ]
  },
  {
   "cell_type": "code",
   "execution_count": 24,
   "id": "852a1c1a",
   "metadata": {},
   "outputs": [
    {
     "data": {
      "text/plain": [
       "<pymongo.results.DeleteResult at 0x155bd52d8b0>"
      ]
     },
     "execution_count": 24,
     "metadata": {},
     "output_type": "execute_result"
    }
   ],
   "source": [
    "# Lets delete one document in Collection\n",
    "query_to_delete = {\"Index\": 600}\n",
    "collection.delete_one(query_to_delete)"
   ]
  },
  {
   "cell_type": "code",
   "execution_count": 63,
   "id": "f7d18c4f",
   "metadata": {},
   "outputs": [
    {
     "data": {
      "text/plain": [
       "<pymongo.results.DeleteResult at 0x1ba7fbc1df0>"
      ]
     },
     "execution_count": 63,
     "metadata": {},
     "output_type": "execute_result"
    }
   ],
   "source": [
    "#Deleting all records just pass and empty dictionary \n",
    "collection.delete_many({})"
   ]
  },
  {
   "cell_type": "code",
   "execution_count": 65,
   "id": "a38f9217",
   "metadata": {},
   "outputs": [
    {
     "name": "stdout",
     "output_type": "stream",
     "text": [
      "Collection:'Collection(Database(MongoClient(host=['ac-upgzzjb-shard-00-00.i7w0clu.mongodb.net:27017', 'ac-upgzzjb-shard-00-01.i7w0clu.mongodb.net:27017', 'ac-upgzzjb-shard-00-02.i7w0clu.mongodb.net:27017'], document_class=dict, tz_aware=False, connect=True, retrywrites=True, w='majority', authsource='admin', replicaset='atlas-12n1qt-shard-0', tls=True), 'TA'), 'TA_table')' in Database:'TA' does not exists OR \n",
      "    no documents are present in the collection\n"
     ]
    }
   ],
   "source": [
    "_ = checkExistence_COL(COLLECTION_NAME=collection, DB_NAME=db_name, db=dataBase)"
   ]
  },
  {
   "cell_type": "markdown",
   "id": "a7cc4570",
   "metadata": {},
   "source": [
    "### Dropping entier Collection \n",
    "#### collection.drop()"
   ]
  },
  {
   "cell_type": "code",
   "execution_count": null,
   "id": "8eb91fa5",
   "metadata": {},
   "outputs": [],
   "source": [
    "# Lets verify if the collection exists or not after dropping it\n",
    "COLLECTION_NAME = \"collection\"\n",
    "DB_NAME = \"TA_table\"\n",
    "_ = checkExistence_COL(COLLECTION_NAME=COLLECTION_NAME, DB_NAME=DB_NAME, db=dataBase)"
   ]
  },
  {
   "cell_type": "markdown",
   "id": "dd202ac7",
   "metadata": {},
   "source": [
    "### Updating the record\n",
    "\n",
    "present_data = {'ClassAttr': 2}  \n",
    "new_data = {\"$set\":{'ClassAttr': \"Medium\"}}  \n",
    "collection.update_one(present_data, new_data)"
   ]
  }
 ],
 "metadata": {
  "kernelspec": {
   "display_name": "Python 3 (ipykernel)",
   "language": "python",
   "name": "python3"
  },
  "language_info": {
   "codemirror_mode": {
    "name": "ipython",
    "version": 3
   },
   "file_extension": ".py",
   "mimetype": "text/x-python",
   "name": "python",
   "nbconvert_exporter": "python",
   "pygments_lexer": "ipython3",
   "version": "3.9.13"
  }
 },
 "nbformat": 4,
 "nbformat_minor": 5
}
